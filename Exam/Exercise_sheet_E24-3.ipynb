{
 "cells": [
  {
   "cell_type": "markdown",
   "metadata": {},
   "source": [
    "# Exercise Sheet 3\n"
   ]
  },
  {
   "cell_type": "code",
   "execution_count": 23,
   "metadata": {},
   "outputs": [],
   "source": [
    "import matplotlib.pyplot as plt\n",
    "import numpy as np\n",
    "import time\n",
    "import sklearn as skl\n",
    "from sklearn.neural_network import MLPClassifier\n",
    "from sklearn.feature_extraction.text import CountVectorizer,TfidfTransformer\n",
    "from sklearn.svm import SVC\n",
    "from sklearn.naive_bayes import MultinomialNB\n",
    "from sklearn.model_selection import train_test_split\n",
    "from sklearn.metrics import confusion_matrix,accuracy_score, classification_report"
   ]
  },
  {
   "cell_type": "markdown",
   "metadata": {},
   "source": [
    "### Clustering"
   ]
  },
  {
   "cell_type": "markdown",
   "metadata": {},
   "source": [
    "We are using again the MNIST data from Exercise 3. The following should just access the data\n",
    "you have already downloaded (adjust the data_home path!):"
   ]
  },
  {
   "cell_type": "code",
   "execution_count": 1,
   "metadata": {},
   "outputs": [],
   "source": [
    "from sklearn.datasets import fetch_openml\n",
    "mnist = fetch_openml(name='mnist_784', data_home='/home/jaeger/Data')"
   ]
  },
  {
   "cell_type": "markdown",
   "metadata": {},
   "source": [
    "**Exercise 4:** We are exploring several clustering techniques with the MNIST data.\n",
    "\n",
    "**a** Perform *k*-means clustering with *k*=10 on this dataset. \n",
    "<ul>Using visualization techniques analogous to what we have done in the `Clustering` notebook for the faces data, can you determine the 'nature' of the 10 constructed clusters? Do the clusters (roughly) coincide with the 10 different actual digits? </ul>\n",
    "<ul>Perform a supervised clustering evaluation using adjusted rand index. </ul>\n",
    "<ul>Are the clustering results stable, when you perform several random restarts of *k*-means? You can use the rand index also for this: take the cluster labels produced by two runs of *k*-means as the input for the rand index. The rand index then measures how much the two clusterings coincide. </ul>\n",
    "\n",
    "**b** Now perform hierarchical clustering on the data (in order to improve visibility in the constructed dendrograms, you can also use a much reduced dataset as constructed using `sklearn.utils.resample` shown below). Does the visual analysis of the dendrogram indicate a natural number of clusters? Using different cluster distance metrics (ward,single,average), what do the clusterings look like that are producec at the level of *k*=10 clusters? See the `Clustering` notebook for the needed Python code, including the `fcluster` method to retrieve 'plain' clusterings from the hierarchical clustering. \n",
    "\n",
    "Some investigations may be easier to perform (and results easier interpreted) if you use a smaller subset of the MNIST data. The following code shows how one can use the skl.utils.resample method for this:"
   ]
  },
  {
   "cell_type": "code",
   "execution_count": 3,
   "metadata": {},
   "outputs": [
    {
     "name": "stdout",
     "output_type": "stream",
     "text": [
      "Train Clustering Accuracy: 61.64%\n"
     ]
    }
   ],
   "source": [
    "## Exercise: Perform *k*-means clustering with *k*=10 on this dataset\n",
    "\n",
    "from sklearn.cluster import KMeans\n",
    "from sklearn.metrics import accuracy_score, adjusted_rand_score\n",
    "from sklearn.datasets import fetch_openml\n",
    "import numpy as np\n",
    "\n",
    "# Load MNIST data\n",
    "mnist = fetch_openml('mnist_784', version=1)\n",
    "X, y = mnist.data, mnist.target.astype(int)  # Load features and integer labels\n",
    "\n",
    "# Normalize pixel values\n",
    "X = X / 255.0\n",
    "\n",
    "# Optionally, split into training and testing sets (if desired)\n",
    "from sklearn.model_selection import train_test_split\n",
    "X_train, X_test, y_train, y_test = train_test_split(X, y, test_size=0.25, random_state=42)\n",
    "\n",
    "# Fit KMeans on the training data\n",
    "n_clusters = 10  # Number of clusters (digits 0-9)\n",
    "kmeans = KMeans(n_clusters=n_clusters, random_state=42)\n",
    "kmeans.fit(X_train)\n",
    "\n",
    "# Assign clusters to the training and test data\n",
    "train_clusters = kmeans.predict(X_train)\n",
    "test_clusters = kmeans.predict(X_test)\n",
    "\n",
    "# Evaluate clustering on training set (mapping clusters to labels for clarity)\n",
    "from scipy.stats import mode\n",
    "\n",
    "# Map each cluster to the most common label in it\n",
    "labels = np.zeros_like(train_clusters)\n",
    "for i in range(n_clusters):\n",
    "    mask = (train_clusters == i)\n",
    "    labels[mask] = mode(y_train[mask])[0]\n",
    "\n",
    "# Calculate accuracy for the training data\n",
    "train_accuracy = accuracy_score(y_train, labels)\n",
    "\n",
    "print(f\"Train Clustering Accuracy: {train_accuracy * 100:.2f}%\")\n"
   ]
  },
  {
   "cell_type": "code",
   "execution_count": null,
   "metadata": {},
   "outputs": [],
   "source": [
    "small_mnist_data,small_mnist_label = skl.utils.resample(mnist.data,mnist.target,n_samples=200,replace=False)"
   ]
  },
  {
   "cell_type": "markdown",
   "metadata": {},
   "source": [
    "### Text data"
   ]
  },
  {
   "cell_type": "markdown",
   "metadata": {},
   "source": [
    "We first use the dataset containing movie reviews from the *Internet Movie Database*. For this, the data first needs to be downloaded from <a href=\"http://ai.stanford.edu/~amaas/data/sentiment/\"> here </a>. Note: this is about 220 Mb.  After uncompressing, the data is contained in a directory `aclImdb` with sub-directories `train` and `test`. In the following, replace the piece of the path that leads to the directory in which you have unpacked the data."
   ]
  },
  {
   "cell_type": "code",
   "execution_count": 4,
   "metadata": {},
   "outputs": [],
   "source": [
    "from sklearn.datasets import load_files\n",
    "from sklearn.feature_extraction.text import CountVectorizer,TfidfTransformer"
   ]
  },
  {
   "cell_type": "code",
   "execution_count": null,
   "metadata": {},
   "outputs": [],
   "source": [
    "reviews_train=load_files(r'C:\\Users\\KennethElong(KEEL)\\Downloads\\aclImdb_v1\\aclImdb\\train',categories=['neg','pos'])\n",
    "reviews_test=load_files(r'C:\\Users\\KennethElong(KEEL)\\Downloads\\aclImdb_v1\\aclImdb\\test',categories=['neg','pos'])"
   ]
  },
  {
   "cell_type": "markdown",
   "metadata": {},
   "source": [
    "The following is the same code as in the `TextData` notebook for transforming the data into term-frequency, and term-frequency-inverse-document-frequency vectors. "
   ]
  },
  {
   "cell_type": "code",
   "execution_count": 19,
   "metadata": {},
   "outputs": [],
   "source": [
    "## Splitting the training data into a training and validation set with 20% set aside for validation\n",
    "X_train, X_val, y_train, y_val = train_test_split(\n",
    "    reviews_train.data, reviews_train.target, test_size=0.2, random_state=11\n",
    ")\n",
    "\n",
    "# Vectorize the data\n",
    "dictionary = CountVectorizer(min_df=0.0005, max_df=0.5).fit(X_train)\n",
    "\n",
    "# Transform training, validation, and test data to TF-IDF\n",
    "# Training data\n",
    "reviews_train_tf_vec = dictionary.transform(X_train)\n",
    "reviews_train_tfidf_vec = TfidfTransformer().fit_transform(reviews_train_tf_vec)\n",
    "\n",
    "# Validation data\n",
    "reviews_val_tf_vec = dictionary.transform(X_val)\n",
    "reviews_val_tfidf_vec = TfidfTransformer().fit_transform(reviews_val_tf_vec)\n",
    "\n",
    "# Test data\n",
    "reviews_test_tf_vec = dictionary.transform(reviews_test.data)\n",
    "reviews_test_tfidf_vec = TfidfTransformer().fit_transform(reviews_test_tf_vec)"
   ]
  },
  {
   "cell_type": "markdown",
   "metadata": {},
   "source": [
    "**Exercise 5:** \n",
    "\n",
    "Learn at least 2 different kinds of classifiers (k-NN, Naive Bayes, Decision Tree, SVM, Neural Network) for predicting the 'positive' reviews based on the tf or tf-idf vectors. Using a validation set, optimize the classifiers via the available regularization parameters so that overfitting is minimized.  Evaluate the learned classifiers using accuracy, precision, recall, and their ROC curves. \n"
   ]
  },
  {
   "cell_type": "code",
   "execution_count": null,
   "metadata": {},
   "outputs": [
    {
     "name": "stdout",
     "output_type": "stream",
     "text": [
      "['heralded' 'herbert' 'hercules' 'herd' 'here']\n"
     ]
    }
   ],
   "source": [
    "## Printing the words at position 6951 to 6956\n",
    "print(dictionary.get_feature_names_out()[6951:6956])\n",
    "\n",
    "## This output now is not as it was in the TextData exercise, because the data used to build the dictionary was different\n"
   ]
  },
  {
   "cell_type": "markdown",
   "metadata": {},
   "source": [
    "Training a Naive Bayes model as the first one."
   ]
  },
  {
   "cell_type": "code",
   "execution_count": 25,
   "metadata": {},
   "outputs": [
    {
     "name": "stdout",
     "output_type": "stream",
     "text": [
      "Validation Accuracy: 0.8404\n",
      "Test Accuracy: 0.8256\n"
     ]
    }
   ],
   "source": [
    "## Training the model\n",
    "mnb=MultinomialNB().fit(reviews_train_tf_vec,y_train)\n",
    "\n",
    "# Evaluate on the validation set\n",
    "val_predictions = mnb.predict(reviews_val_tf_vec)\n",
    "val_accuracy = accuracy_score(y_val, val_predictions)\n",
    "print(\"Validation Accuracy: {:.4f}\".format(val_accuracy))\n",
    "#print(\"\\nValidation Classification Report:\\n\", classification_report(y_val, val_predictions))\n",
    "\n",
    "# Evaluate on the test set\n",
    "test_predictions = mnb.predict(reviews_test_tf_vec)\n",
    "test_accuracy = accuracy_score(reviews_test.target, test_predictions)\n",
    "print(\"Test Accuracy: {:.4f}\".format(test_accuracy))\n",
    "#print(\"\\nTest Classification Report:\\n\", classification_report(reviews_test.target, test_predictions))"
   ]
  },
  {
   "cell_type": "markdown",
   "metadata": {},
   "source": [
    "The Naive Bayers model predict 82.56% on the test data and 84,04% on the validation data. This seems like a fine balance between prediction on the validation and test set.\n",
    "\n",
    "Opportunities to further enhance the model\n",
    "- Remove stop words such as \"the\", \"is\" and \"and\"\n",
    "- Experiment with the min_df and max_df to include or exclude more word at each end of the spectrum\n",
    "- Adjust the alpha value, default set to 1, to see if this changes the outcome"
   ]
  },
  {
   "cell_type": "markdown",
   "metadata": {},
   "source": [
    "Training a Support Vector Machine (SVM) model as the second"
   ]
  },
  {
   "cell_type": "code",
   "execution_count": null,
   "metadata": {},
   "outputs": [],
   "source": []
  }
 ],
 "metadata": {
  "kernelspec": {
   "display_name": ".venv",
   "language": "python",
   "name": "python3"
  },
  "language_info": {
   "codemirror_mode": {
    "name": "ipython",
    "version": 3
   },
   "file_extension": ".py",
   "mimetype": "text/x-python",
   "name": "python",
   "nbconvert_exporter": "python",
   "pygments_lexer": "ipython3",
   "version": "3.11.9"
  }
 },
 "nbformat": 4,
 "nbformat_minor": 4
}
