{
 "cells": [
  {
   "cell_type": "markdown",
   "metadata": {},
   "source": [
    "# Exercise Sheet 3"
   ]
  },
  {
   "cell_type": "markdown",
   "metadata": {},
   "source": [
    "In this exercise we perform character recognition using SVM and NN classifiers. We use the MNIST dataset, which consists of 70000 handwritten digits 0..9 at a resolution of 28x28 pixels. \n",
    "\n",
    "Stuff we need:"
   ]
  },
  {
   "cell_type": "code",
   "execution_count": 1,
   "metadata": {},
   "outputs": [],
   "source": [
    "import matplotlib.pyplot as plt\n",
    "import numpy as np\n",
    "import time\n",
    "import sklearn as skl\n",
    "from sklearn.neural_network import MLPClassifier\n",
    "from sklearn.svm import SVC\n",
    "from sklearn.model_selection import train_test_split\n",
    "from sklearn.metrics import confusion_matrix,accuracy_score"
   ]
  },
  {
   "cell_type": "markdown",
   "metadata": {},
   "source": [
    "Now we get the MNIST data. Using the fetch_mldata function, this will be downloaded from the web, and stored in the directory you specify as data_home (replace my path in the following cell):"
   ]
  },
  {
   "cell_type": "code",
   "execution_count": 2,
   "metadata": {},
   "outputs": [],
   "source": [
    "from sklearn.datasets import fetch_openml\n",
    "mnist = fetch_openml(name='mnist_784', data_home='/home/kenneth/Data')"
   ]
  },
  {
   "cell_type": "markdown",
   "metadata": {},
   "source": [
    "The data has .data and .target attributes. The following gives us some basic information on the data:"
   ]
  },
  {
   "cell_type": "code",
   "execution_count": 3,
   "metadata": {},
   "outputs": [
    {
     "name": "stdout",
     "output_type": "stream",
     "text": [
      "Number of datapoints: 70000\n",
      "\n",
      "Number of features: 784\n",
      "\n",
      "List of labels: ['0' '1' '2' '3' '4' '5' '6' '7' '8' '9']\n",
      "\n"
     ]
    }
   ],
   "source": [
    "print(\"Number of datapoints: {}\\n\".format(mnist.data.shape[0]))\n",
    "print(\"Number of features: {}\\n\".format(mnist.data.shape[1]))\n",
    "print(\"List of labels: {}\\n\".format(np.unique(mnist.target)))"
   ]
  },
  {
   "cell_type": "markdown",
   "metadata": {},
   "source": [
    "The mnist.data is represented as a Pandas dataframe. The following code expects mnist.data to be a plain np.array, which we get simply by running:"
   ]
  },
  {
   "cell_type": "code",
   "execution_count": 4,
   "metadata": {},
   "outputs": [],
   "source": [
    "mnist.data=np.array(mnist.data)"
   ]
  },
  {
   "cell_type": "markdown",
   "metadata": {},
   "source": [
    "We can plot individual datapoints as follows:"
   ]
  },
  {
   "cell_type": "code",
   "execution_count": 5,
   "metadata": {},
   "outputs": [
    {
     "name": "stdout",
     "output_type": "stream",
     "text": [
      "Value of datapoint no. 4:\n",
      "[  0   0   0   0   0   0   0   0   0   0   0   0   0   0   0   0   0   0\n",
      "   0   0   0   0   0   0   0   0   0   0   0   0   0   0   0   0   0   0\n",
      "   0   0   0   0   0   0   0   0   0   0   0   0   0   0   0   0   0   0\n",
      "   0   0   0   0   0   0   0   0   0   0   0   0   0   0   0   0   0   0\n",
      "   0   0   0   0   0   0   0   0   0   0   0   0   0   0   0   0   0   0\n",
      "   0   0   0   0   0   0   0   0   0   0   0   0   0   0   0   0   0   0\n",
      "   0   0   0   0   0   0   0   0   0   0   0   0   0   0   0   0   0   0\n",
      "   0   0   0   0   0   0   0   0   0   0   0   0   0   0   0   0   0   0\n",
      "   0   0   0   0   0   0   0   0   0   0   0   0   0   0   0   0   0   0\n",
      "   0   0   0   0   0   0   0   0   0   0   0   0   0   0   0   0   0   0\n",
      "   0   0   0   0   0   0   0   0   0   0   0   0   0   0   0   0   0   0\n",
      "   0   0   0   0   0   0   0   0   0   0  55 148 210 253 253 113  87 148\n",
      "  55   0   0   0   0   0   0   0   0   0   0   0   0   0   0   0   0   0\n",
      "   0  87 232 252 253 189 210 252 252 253 168   0   0   0   0   0   0   0\n",
      "   0   0   0   0   0   0   0   0   0   4  57 242 252 190  65   5  12 182\n",
      " 252 253 116   0   0   0   0   0   0   0   0   0   0   0   0   0   0   0\n",
      "   0  96 252 252 183  14   0   0  92 252 252 225  21   0   0   0   0   0\n",
      "   0   0   0   0   0   0   0   0   0   0 132 253 252 146  14   0   0   0\n",
      " 215 252 252  79   0   0   0   0   0   0   0   0   0   0   0   0   0   0\n",
      "   0 126 253 247 176   9   0   0   8  78 245 253 129   0   0   0   0   0\n",
      "   0   0   0   0   0   0   0   0   0   0  16 232 252 176   0   0   0  36\n",
      " 201 252 252 169  11   0   0   0   0   0   0   0   0   0   0   0   0   0\n",
      "   0   0  22 252 252  30  22 119 197 241 253 252 251  77   0   0   0   0\n",
      "   0   0   0   0   0   0   0   0   0   0   0   0  16 231 252 253 252 252\n",
      " 252 226 227 252 231   0   0   0   0   0   0   0   0   0   0   0   0   0\n",
      "   0   0   0   0   0  55 235 253 217 138  42  24 192 252 143   0   0   0\n",
      "   0   0   0   0   0   0   0   0   0   0   0   0   0   0   0   0   0   0\n",
      "   0   0   0  62 255 253 109   0   0   0   0   0   0   0   0   0   0   0\n",
      "   0   0   0   0   0   0   0   0   0   0   0   0   0  71 253 252  21   0\n",
      "   0   0   0   0   0   0   0   0   0   0   0   0   0   0   0   0   0   0\n",
      "   0   0   0   0   0   0 253 252  21   0   0   0   0   0   0   0   0   0\n",
      "   0   0   0   0   0   0   0   0   0   0   0   0   0   0   0  71 253 252\n",
      "  21   0   0   0   0   0   0   0   0   0   0   0   0   0   0   0   0   0\n",
      "   0   0   0   0   0   0   0 106 253 252  21   0   0   0   0   0   0   0\n",
      "   0   0   0   0   0   0   0   0   0   0   0   0   0   0   0   0   0  45\n",
      " 255 253  21   0   0   0   0   0   0   0   0   0   0   0   0   0   0   0\n",
      "   0   0   0   0   0   0   0   0   0   0 218 252  56   0   0   0   0   0\n",
      "   0   0   0   0   0   0   0   0   0   0   0   0   0   0   0   0   0   0\n",
      "   0   0  96 252 189  42   0   0   0   0   0   0   0   0   0   0   0   0\n",
      "   0   0   0   0   0   0   0   0   0   0   0   0  14 184 252 170  11   0\n",
      "   0   0   0   0   0   0   0   0   0   0   0   0   0   0   0   0   0   0\n",
      "   0   0   0   0   0  14 147 252  42   0   0   0   0   0   0   0   0   0\n",
      "   0   0   0   0   0   0   0   0   0   0   0   0   0   0   0   0   0   0\n",
      "   0   0   0   0   0   0   0   0   0   0]\n",
      "\n",
      "Target of datapoint no. 4:\n",
      "9\n",
      "\n",
      "As image:\n",
      "\n"
     ]
    },
    {
     "data": {
      "image/png": "[encoded data removed]",
      "text/plain": [
       "<Figure size 640x480 with 1 Axes>"
      ]
     },
     "metadata": {},
     "output_type": "display_data"
    }
   ],
   "source": [
    "index = 4\n",
    "print(\"Value of datapoint no. {}:\\n{}\\n\".format(index,mnist.data[index,:]))\n",
    "print(\"Target of datapoint no. {}:\\n{}\\n\".format(index,mnist.target[index])) ## Added the target value of index 4\n",
    "print(\"As image:\\n\")\n",
    "plt.imshow(mnist.data[index].reshape(28,28),cmap=plt.cm.gray_r)\n",
    "plt.show()"
   ]
  },
  {
   "cell_type": "markdown",
   "metadata": {},
   "source": [
    "To make things a little bit simpler (and faster!), we can extract from the data binary subsets, that only contain the data for two selected digits:"
   ]
  },
  {
   "cell_type": "code",
   "execution_count": 6,
   "metadata": {},
   "outputs": [
    {
     "name": "stdout",
     "output_type": "stream",
     "text": [
      "The first datapoint now is: \n",
      "\n"
     ]
    },
    {
     "data": {
      "image/png": "[encoded data removed]",
      "text/plain": [
       "<Figure size 640x480 with 1 Axes>"
      ]
     },
     "metadata": {},
     "output_type": "display_data"
    },
    {
     "name": "stdout",
     "output_type": "stream",
     "text": [
      "7        3\n",
      "10       3\n",
      "12       3\n",
      "15       7\n",
      "27       3\n",
      "        ..\n",
      "69975    3\n",
      "69979    7\n",
      "69986    3\n",
      "69990    7\n",
      "69996    3\n",
      "Name: class, Length: 14434, dtype: category\n",
      "Categories (10, object): ['0', '1', '2', '3', ..., '6', '7', '8', '9']\n"
     ]
    }
   ],
   "source": [
    "digit0='3'\n",
    "digit1='7'\n",
    "mnist_bin_data=mnist.data[np.logical_or(mnist.target==digit0,mnist.target==digit1)]\n",
    "mnist_bin_target=mnist.target[np.logical_or(mnist.target==digit0,mnist.target==digit1)]\n",
    "print(\"The first datapoint now is: \\n\")\n",
    "plt.imshow(mnist_bin_data[0].reshape(28,28),cmap=plt.cm.gray_r)\n",
    "plt.show()\n",
    "print(mnist_bin_target)"
   ]
  },
  {
   "cell_type": "markdown",
   "metadata": {},
   "source": [
    "**Exercise 1:** Split the mnist_bin data into training and test set. Learn different SVM and NN models by varying the kernel functions (SVM), the network structure (NN), and the solver (NN). For each configuration, determine the time it takes to learn the model, and the accuracy on the test data. *Caution*: for some configurations, learning here can take a little while (several minutes).\n",
    "\n",
    "Using the numpy where() function, one can extract the indices of the test cases that were misclassified: <br>\n",
    "`misclass = np.where(test != predictions)` <br>\n",
    "Inspect some misclassified cases. Do they correspond to hard to recognize digits (also for the human reader)? \n",
    "\n",
    "How do results (time and accuracy) change, depending on whether you consider an 'easy' binary task (e.g., distinguishing '1' and '0'), or a more difficult one (e.g., '4' vs. '5'). \n",
    "\n",
    "Identify one or several good configurations that give a reasonable combination of accuracy and runtime. Use these configurations to perform a full classification of the 10 classes in the original dataset (after split into train/test). Using `sklearn.metrics.confusion_matrix` you can get an overview of all combinations of true and predicted labels (see p. 298-299 in Müller & Guido). What does this tell you about which digits are easy, and which ones are difficult to recognize, and which ones are most easily confused?"
   ]
  },
  {
   "cell_type": "code",
   "execution_count": 7,
   "metadata": {},
   "outputs": [],
   "source": [
    "## Split the mnist_bin data into training and test set. \n",
    "\n",
    "from sklearn.model_selection import train_test_split\n",
    "\n",
    "X_train, X_test, y_train, y_test = train_test_split(mnist_bin_data, mnist_bin_target, random_state=1) # test size 25% and training 75%"
   ]
  },
  {
   "cell_type": "code",
   "execution_count": 8,
   "metadata": {},
   "outputs": [
    {
     "name": "stdout",
     "output_type": "stream",
     "text": [
      "Time it took to learn the linear kernel model: 10.95 seconds\n",
      "Training Accuracy: 1.00\n",
      "Test Accuracy: 0.98\n"
     ]
    }
   ],
   "source": [
    "## Learn different SVM and NN models by varying the kernel functions (SVM), the network structure (NN), and the solver (NN)\n",
    "import time\n",
    "\n",
    "kernel_type = 'linear'\n",
    "start=time.time()\n",
    "linear_svm = SVC(kernel=kernel_type).fit(X_train,y_train)\n",
    "end=time.time()\n",
    "elapsed_time=end-start \n",
    "print(f\"Time it took to learn the {kernel_type} kernel model: {elapsed_time:.2f} seconds\")\n",
    "\n",
    "# Calculate accuracy on training data\n",
    "train_accuracy = linear_svm.score(X_train, y_train)\n",
    "print(f\"Training Accuracy: {train_accuracy:.2f}\")\n",
    "\n",
    "# Calculate accuracy on test data\n",
    "test_accuracy = linear_svm.score(X_test, y_test)\n",
    "print(f\"Test Accuracy: {test_accuracy:.2f}\")"
   ]
  },
  {
   "cell_type": "code",
   "execution_count": 26,
   "metadata": {},
   "outputs": [
    {
     "name": "stdout",
     "output_type": "stream",
     "text": [
      "Time it took to learn the linear kernel model: 475.93 seconds\n",
      "Training Accuracy: 1.00\n",
      "Test Accuracy: 0.51\n"
     ]
    }
   ],
   "source": [
    "import time\n",
    "\n",
    "kernel_type = 'rbf'\n",
    "start=time.time()\n",
    "kernel_svm = SVC(kernel=kernel_type, gamma=1.0).fit(X_train,y_train)\n",
    "end=time.time()\n",
    "elapsed_time=end-start \n",
    "print(f\"Time it took to learn the {kernel_type} kernel model: {elapsed_time:.2f} seconds\")\n",
    "\n",
    "# Calculate accuracy on training data\n",
    "train_accuracy = kernel_svm.score(X_train, y_train)\n",
    "print(f\"Training Accuracy: {train_accuracy:.2f}\")\n",
    "\n",
    "# Calculate accuracy on test data\n",
    "test_accuracy = kernel_svm.score(X_test, y_test)\n",
    "print(f\"Test Accuracy: {test_accuracy:.2f}\")"
   ]
  },
  {
   "cell_type": "code",
   "execution_count": null,
   "metadata": {},
   "outputs": [
    {
     "ename": "ValueError",
     "evalue": "Precomputed matrix must be a square matrix. Input is a 10825x784 matrix.",
     "output_type": "error",
     "traceback": [
      "\u001b[0;31m---------------------------------------------------------------------------\u001b[0m",
      "\u001b[0;31mValueError\u001b[0m                                Traceback (most recent call last)",
      "Cell \u001b[0;32mIn[9], line 5\u001b[0m\n\u001b[1;32m      3\u001b[0m kernel_type \u001b[38;5;241m=\u001b[39m \u001b[38;5;124m'\u001b[39m\u001b[38;5;124mprecomputed\u001b[39m\u001b[38;5;124m'\u001b[39m\n\u001b[1;32m      4\u001b[0m start\u001b[38;5;241m=\u001b[39mtime\u001b[38;5;241m.\u001b[39mtime()\n\u001b[0;32m----> 5\u001b[0m kernel_svm \u001b[38;5;241m=\u001b[39m SVC(kernel\u001b[38;5;241m=\u001b[39mkernel_type, gamma\u001b[38;5;241m=\u001b[39m\u001b[38;5;241m1.0\u001b[39m)\u001b[38;5;241m.\u001b[39mfit(X_train,y_train)\n\u001b[1;32m      6\u001b[0m end\u001b[38;5;241m=\u001b[39mtime\u001b[38;5;241m.\u001b[39mtime()\n\u001b[1;32m      7\u001b[0m elapsed_time\u001b[38;5;241m=\u001b[39mend\u001b[38;5;241m-\u001b[39mstart \n",
      "File \u001b[0;32m~/anaconda3/lib/python3.12/site-packages/sklearn/base.py:1473\u001b[0m, in \u001b[0;36m_fit_context.<locals>.decorator.<locals>.wrapper\u001b[0;34m(estimator, *args, **kwargs)\u001b[0m\n\u001b[1;32m   1466\u001b[0m     estimator\u001b[38;5;241m.\u001b[39m_validate_params()\n\u001b[1;32m   1468\u001b[0m \u001b[38;5;28;01mwith\u001b[39;00m config_context(\n\u001b[1;32m   1469\u001b[0m     skip_parameter_validation\u001b[38;5;241m=\u001b[39m(\n\u001b[1;32m   1470\u001b[0m         prefer_skip_nested_validation \u001b[38;5;129;01mor\u001b[39;00m global_skip_validation\n\u001b[1;32m   1471\u001b[0m     )\n\u001b[1;32m   1472\u001b[0m ):\n\u001b[0;32m-> 1473\u001b[0m     \u001b[38;5;28;01mreturn\u001b[39;00m fit_method(estimator, \u001b[38;5;241m*\u001b[39margs, \u001b[38;5;241m*\u001b[39m\u001b[38;5;241m*\u001b[39mkwargs)\n",
      "File \u001b[0;32m~/anaconda3/lib/python3.12/site-packages/sklearn/svm/_base.py:215\u001b[0m, in \u001b[0;36mBaseLibSVM.fit\u001b[0;34m(self, X, y, sample_weight)\u001b[0m\n\u001b[1;32m    209\u001b[0m     \u001b[38;5;28;01mraise\u001b[39;00m \u001b[38;5;167;01mValueError\u001b[39;00m(\n\u001b[1;32m    210\u001b[0m         \u001b[38;5;124m\"\u001b[39m\u001b[38;5;124mX and y have incompatible shapes.\u001b[39m\u001b[38;5;130;01m\\n\u001b[39;00m\u001b[38;5;124m\"\u001b[39m\n\u001b[1;32m    211\u001b[0m         \u001b[38;5;241m+\u001b[39m \u001b[38;5;124m\"\u001b[39m\u001b[38;5;124mX has \u001b[39m\u001b[38;5;132;01m%s\u001b[39;00m\u001b[38;5;124m samples, but y has \u001b[39m\u001b[38;5;132;01m%s\u001b[39;00m\u001b[38;5;124m.\u001b[39m\u001b[38;5;124m\"\u001b[39m \u001b[38;5;241m%\u001b[39m (n_samples, y\u001b[38;5;241m.\u001b[39mshape[\u001b[38;5;241m0\u001b[39m])\n\u001b[1;32m    212\u001b[0m     )\n\u001b[1;32m    214\u001b[0m \u001b[38;5;28;01mif\u001b[39;00m \u001b[38;5;28mself\u001b[39m\u001b[38;5;241m.\u001b[39mkernel \u001b[38;5;241m==\u001b[39m \u001b[38;5;124m\"\u001b[39m\u001b[38;5;124mprecomputed\u001b[39m\u001b[38;5;124m\"\u001b[39m \u001b[38;5;129;01mand\u001b[39;00m n_samples \u001b[38;5;241m!=\u001b[39m X\u001b[38;5;241m.\u001b[39mshape[\u001b[38;5;241m1\u001b[39m]:\n\u001b[0;32m--> 215\u001b[0m     \u001b[38;5;28;01mraise\u001b[39;00m \u001b[38;5;167;01mValueError\u001b[39;00m(\n\u001b[1;32m    216\u001b[0m         \u001b[38;5;124m\"\u001b[39m\u001b[38;5;124mPrecomputed matrix must be a square matrix.\u001b[39m\u001b[38;5;124m\"\u001b[39m\n\u001b[1;32m    217\u001b[0m         \u001b[38;5;124m\"\u001b[39m\u001b[38;5;124m Input is a \u001b[39m\u001b[38;5;132;01m{}\u001b[39;00m\u001b[38;5;124mx\u001b[39m\u001b[38;5;132;01m{}\u001b[39;00m\u001b[38;5;124m matrix.\u001b[39m\u001b[38;5;124m\"\u001b[39m\u001b[38;5;241m.\u001b[39mformat(X\u001b[38;5;241m.\u001b[39mshape[\u001b[38;5;241m0\u001b[39m], X\u001b[38;5;241m.\u001b[39mshape[\u001b[38;5;241m1\u001b[39m])\n\u001b[1;32m    218\u001b[0m     )\n\u001b[1;32m    220\u001b[0m \u001b[38;5;28;01mif\u001b[39;00m sample_weight\u001b[38;5;241m.\u001b[39mshape[\u001b[38;5;241m0\u001b[39m] \u001b[38;5;241m>\u001b[39m \u001b[38;5;241m0\u001b[39m \u001b[38;5;129;01mand\u001b[39;00m sample_weight\u001b[38;5;241m.\u001b[39mshape[\u001b[38;5;241m0\u001b[39m] \u001b[38;5;241m!=\u001b[39m n_samples:\n\u001b[1;32m    221\u001b[0m     \u001b[38;5;28;01mraise\u001b[39;00m \u001b[38;5;167;01mValueError\u001b[39;00m(\n\u001b[1;32m    222\u001b[0m         \u001b[38;5;124m\"\u001b[39m\u001b[38;5;124msample_weight and X have incompatible shapes: \u001b[39m\u001b[38;5;124m\"\u001b[39m\n\u001b[1;32m    223\u001b[0m         \u001b[38;5;124m\"\u001b[39m\u001b[38;5;132;01m%r\u001b[39;00m\u001b[38;5;124m vs \u001b[39m\u001b[38;5;132;01m%r\u001b[39;00m\u001b[38;5;130;01m\\n\u001b[39;00m\u001b[38;5;124m\"\u001b[39m\n\u001b[0;32m   (...)\u001b[0m\n\u001b[1;32m    226\u001b[0m         \u001b[38;5;241m%\u001b[39m (sample_weight\u001b[38;5;241m.\u001b[39mshape, X\u001b[38;5;241m.\u001b[39mshape)\n\u001b[1;32m    227\u001b[0m     )\n",
      "\u001b[0;31mValueError\u001b[0m: Precomputed matrix must be a square matrix. Input is a 10825x784 matrix."
     ]
    }
   ],
   "source": [
    "\"\"\"\n",
    "import time\n",
    "\n",
    "kernel_type = 'precomputed'\n",
    "start=time.time()\n",
    "kernel_svm = SVC(kernel=kernel_type, gamma=1.0).fit(X_train,y_train)\n",
    "end=time.time()\n",
    "elapsed_time=end-start \n",
    "print(f\"Time it took to learn the {kernel_type} kernel model: {elapsed_time:.2f} seconds\")\n",
    "\n",
    "# Calculate accuracy on training data\n",
    "train_accuracy = kernel_svm.score(X_train, y_train)\n",
    "print(f\"Training Accuracy: {train_accuracy:.2f}\")\n",
    "\n",
    "# Calculate accuracy on test data\n",
    "test_accuracy = kernel_svm.score(X_test, y_test)\n",
    "print(f\"Test Accuracy: {test_accuracy:.2f}\")\n",
    "\"\"\""
   ]
  },
  {
   "cell_type": "code",
   "execution_count": 13,
   "metadata": {},
   "outputs": [
    {
     "name": "stdout",
     "output_type": "stream",
     "text": [
      "Testing architecture: () with activation: relu\n",
      "Start time is:  05:42:25\n",
      "Activation: relu, Train Accuracy: 1.00, Test Accuracy: 0.98, Time: 01:01:47 seconds\n",
      "\n",
      "Testing architecture: (5,) with activation: relu\n",
      "Start time is:  05:44:14\n"
     ]
    },
    {
     "name": "stderr",
     "output_type": "stream",
     "text": [
      "/home/kenneth/anaconda3/lib/python3.12/site-packages/sklearn/neural_network/_multilayer_perceptron.py:545: ConvergenceWarning: lbfgs failed to converge (status=1):\n",
      "STOP: TOTAL NO. of ITERATIONS REACHED LIMIT.\n",
      "\n",
      "Increase the number of iterations (max_iter) or scale the data as shown in:\n",
      "    https://scikit-learn.org/stable/modules/preprocessing.html\n",
      "  self.n_iter_ = _check_optimize_result(\"lbfgs\", opt_res, self.max_iter)\n"
     ]
    },
    {
     "name": "stdout",
     "output_type": "stream",
     "text": [
      "Activation: relu, Train Accuracy: 0.99, Test Accuracy: 0.99, Time: 01:09:48 seconds\n",
      "\n",
      "Testing architecture: (10,) with activation: relu\n",
      "Start time is:  05:54:03\n",
      "Activation: relu, Train Accuracy: 1.00, Test Accuracy: 0.99, Time: 01:01:43 seconds\n",
      "\n",
      "Testing architecture: (5, 5) with activation: relu\n",
      "Start time is:  05:55:47\n",
      "Activation: relu, Train Accuracy: 0.99, Test Accuracy: 0.99, Time: 01:02:31 seconds\n",
      "\n",
      "Testing architecture: (10, 5) with activation: relu\n",
      "Start time is:  05:58:19\n",
      "Activation: relu, Train Accuracy: 1.00, Test Accuracy: 0.99, Time: 01:02:08 seconds\n",
      "\n",
      "Testing architecture: (10, 10, 5) with activation: relu\n",
      "Start time is:  06:00:28\n",
      "Activation: relu, Train Accuracy: 1.00, Test Accuracy: 0.99, Time: 01:06:01 seconds\n",
      "\n",
      "Testing architecture: () with activation: tanh\n",
      "Start time is:  06:06:30\n",
      "Activation: tanh, Train Accuracy: 1.00, Test Accuracy: 0.98, Time: 01:01:42 seconds\n",
      "\n",
      "Testing architecture: (5,) with activation: tanh\n",
      "Start time is:  06:08:13\n",
      "Activation: tanh, Train Accuracy: 0.99, Test Accuracy: 0.99, Time: 01:06:58 seconds\n",
      "\n",
      "Testing architecture: (10,) with activation: tanh\n",
      "Start time is:  06:15:13\n"
     ]
    },
    {
     "name": "stderr",
     "output_type": "stream",
     "text": [
      "/home/kenneth/anaconda3/lib/python3.12/site-packages/sklearn/neural_network/_multilayer_perceptron.py:545: ConvergenceWarning: lbfgs failed to converge (status=1):\n",
      "STOP: TOTAL NO. of ITERATIONS REACHED LIMIT.\n",
      "\n",
      "Increase the number of iterations (max_iter) or scale the data as shown in:\n",
      "    https://scikit-learn.org/stable/modules/preprocessing.html\n",
      "  self.n_iter_ = _check_optimize_result(\"lbfgs\", opt_res, self.max_iter)\n"
     ]
    },
    {
     "name": "stdout",
     "output_type": "stream",
     "text": [
      "Activation: tanh, Train Accuracy: 1.00, Test Accuracy: 0.99, Time: 01:16:18 seconds\n",
      "\n",
      "Testing architecture: (5, 5) with activation: tanh\n",
      "Start time is:  06:31:32\n"
     ]
    },
    {
     "name": "stderr",
     "output_type": "stream",
     "text": [
      "/home/kenneth/anaconda3/lib/python3.12/site-packages/sklearn/neural_network/_multilayer_perceptron.py:545: ConvergenceWarning: lbfgs failed to converge (status=1):\n",
      "STOP: TOTAL NO. of ITERATIONS REACHED LIMIT.\n",
      "\n",
      "Increase the number of iterations (max_iter) or scale the data as shown in:\n",
      "    https://scikit-learn.org/stable/modules/preprocessing.html\n",
      "  self.n_iter_ = _check_optimize_result(\"lbfgs\", opt_res, self.max_iter)\n"
     ]
    },
    {
     "name": "stdout",
     "output_type": "stream",
     "text": [
      "Activation: tanh, Train Accuracy: 0.99, Test Accuracy: 0.99, Time: 01:17:32 seconds\n",
      "\n",
      "Testing architecture: (10, 5) with activation: tanh\n",
      "Start time is:  06:49:05\n"
     ]
    },
    {
     "name": "stderr",
     "output_type": "stream",
     "text": [
      "/home/kenneth/anaconda3/lib/python3.12/site-packages/sklearn/neural_network/_multilayer_perceptron.py:545: ConvergenceWarning: lbfgs failed to converge (status=1):\n",
      "STOP: TOTAL NO. of ITERATIONS REACHED LIMIT.\n",
      "\n",
      "Increase the number of iterations (max_iter) or scale the data as shown in:\n",
      "    https://scikit-learn.org/stable/modules/preprocessing.html\n",
      "  self.n_iter_ = _check_optimize_result(\"lbfgs\", opt_res, self.max_iter)\n"
     ]
    },
    {
     "name": "stdout",
     "output_type": "stream",
     "text": [
      "Activation: tanh, Train Accuracy: 1.00, Test Accuracy: 0.99, Time: 01:20:17 seconds\n",
      "\n",
      "Testing architecture: (10, 10, 5) with activation: tanh\n",
      "Start time is:  07:09:23\n"
     ]
    },
    {
     "name": "stderr",
     "output_type": "stream",
     "text": [
      "/home/kenneth/anaconda3/lib/python3.12/site-packages/sklearn/neural_network/_multilayer_perceptron.py:545: ConvergenceWarning: lbfgs failed to converge (status=1):\n",
      "STOP: TOTAL NO. of ITERATIONS REACHED LIMIT.\n",
      "\n",
      "Increase the number of iterations (max_iter) or scale the data as shown in:\n",
      "    https://scikit-learn.org/stable/modules/preprocessing.html\n",
      "  self.n_iter_ = _check_optimize_result(\"lbfgs\", opt_res, self.max_iter)\n"
     ]
    },
    {
     "name": "stdout",
     "output_type": "stream",
     "text": [
      "Activation: tanh, Train Accuracy: 1.00, Test Accuracy: 0.99, Time: 16:23:32 seconds\n",
      "\n",
      "Results saved to mlp_results.csv\n",
      "The results:     architecture activation solver  iterations  random_state  train_accuracy  \\\n",
      "0            ()       relu  lbfgs        1000            11        1.000000   \n",
      "1          (5,)       relu  lbfgs        1000            11        0.994457   \n",
      "2         (10,)       relu  lbfgs        1000            11        0.998522   \n",
      "3        (5, 5)       relu  lbfgs        1000            11        0.991409   \n",
      "4       (10, 5)       relu  lbfgs        1000            11        0.998707   \n",
      "5   (10, 10, 5)       relu  lbfgs        1000            11        0.999538   \n",
      "6            ()       tanh  lbfgs        1000            11        1.000000   \n",
      "7          (5,)       tanh  lbfgs        1000            11        0.988453   \n",
      "8         (10,)       tanh  lbfgs        1000            11        0.996767   \n",
      "9        (5, 5)       tanh  lbfgs        1000            11        0.990115   \n",
      "10      (10, 5)       tanh  lbfgs        1000            11        0.995012   \n",
      "11  (10, 10, 5)       tanh  lbfgs        1000            11        0.995289   \n",
      "\n",
      "    test_accuracy          time formatted_time converged            timestamp  \n",
      "0        0.984206    107.884918      1m 47.88s       Yes  2024-11-29 05:44:14  \n",
      "1        0.990856    588.139320      9m 48.14s       Yes  2024-11-29 05:54:03  \n",
      "2        0.992242    103.044061      1m 43.04s       Yes  2024-11-29 05:55:47  \n",
      "3        0.989748    151.549970      2m 31.55s       Yes  2024-11-29 05:58:19  \n",
      "4        0.992242    128.204924       2m 8.20s       Yes  2024-11-29 06:00:28  \n",
      "5        0.993350    361.234533       6m 1.23s       Yes  2024-11-29 06:06:30  \n",
      "6        0.984206    102.383653      1m 42.38s       Yes  2024-11-29 06:08:13  \n",
      "7        0.985592    418.548714      6m 58.55s       Yes  2024-11-29 06:15:13  \n",
      "8        0.990025    978.633489     16m 18.63s       Yes  2024-11-29 06:31:32  \n",
      "9        0.988640   1052.081658     17m 32.08s       Yes  2024-11-29 06:49:05  \n",
      "10       0.991687   1217.600002     20m 17.60s       Yes  2024-11-29 07:09:23  \n",
      "11       0.988640  55412.113994    923m 32.11s       Yes  2024-11-29 22:33:01  \n"
     ]
    }
   ],
   "source": [
    "from sklearn.neural_network import MLPClassifier\n",
    "from sklearn.exceptions import ConvergenceWarning\n",
    "from sklearn.metrics import accuracy_score\n",
    "import time\n",
    "import pandas as pd\n",
    "import os\n",
    "from datetime import datetime\n",
    "\n",
    "#mlp = MLPClassifier(hidden_layer_sizes=[],activation='identity',solver='lbfgs', random_state=11, max_iter=500).fit(X_train, y_train)\n",
    "\n",
    "# Calculate accuracy on test data\n",
    "#test_accuracy=mlp.score(X_test,y_test)\n",
    "#print(f\"Test Accuracy: {test_accuracy:.2f}\")\n",
    "\n",
    "## mlp = MLPClassifier(hidden_layer_sizes=[10],activation='relu',solver='lbfgs', random_state=0, max_iter=500).fit(X_train, y_train)\n",
    "\n",
    "## ----------------------------------##\n",
    "# Define architectures and activation functions to test\n",
    "architectures = [\n",
    "    (),                     # No hidden layers\n",
    "    (5,),                  # 1 layer, 5 neurons\n",
    "    (10,),                 # 1 layer, 10 neurons\n",
    "    (5, 5),               # 2 layers, 5 neurons each\n",
    "    (10, 5),              # 2 layers, 10 neurons in first, 5 in second\n",
    "    (10, 10, 5),         # 3 layers\n",
    "]\n",
    "\n",
    "activations = ['relu', 'tanh']\n",
    "\n",
    "\n",
    "# Configuration parameters\n",
    "solver = 'lbfgs'           # Solver type\n",
    "max_iter = 1000             # Number of iterations\n",
    "random_state_no = 11          # Random state for reproducibility\n",
    "\n",
    "file_path = \"mlp_results.csv\"\n",
    "\n",
    "# Store results\n",
    "results = []\n",
    "\n",
    "for activation in activations:\n",
    "    for arch in architectures:\n",
    "        print(f\"Testing architecture: {arch} with activation: {activation}\")\n",
    "        start = time.time()\n",
    "        print(\"Start time is: \", time.strftime(\"%H:%M:%S\", time.localtime(start)))\n",
    "        mlp = MLPClassifier(hidden_layer_sizes=arch, activation=activation, solver=solver, random_state=random_state_no, max_iter=max_iter)            # Number of iterations\n",
    "\n",
    "        try:\n",
    "            mlp.fit(X_train, y_train)\n",
    "            convergence_warning = False\n",
    "        except ConvergenceWarning:\n",
    "            convergence_warning = True\n",
    "        end = time.time()\n",
    "        \n",
    "        # Evaluate\n",
    "        train_acc = mlp.score(X_train, y_train)\n",
    "        test_acc = mlp.score(X_test, y_test)\n",
    "        elapsed_time = end - start\n",
    "\n",
    "        minutes, seconds = divmod(elapsed_time, 60)\n",
    "        formatted_time = f\"{int(minutes)}m {seconds:.2f}s\"\n",
    "\n",
    "        converged = \"No (Did not converge)\" if convergence_warning else \"Yes\"\n",
    "        \n",
    "        # Save results\n",
    "        results.append({\n",
    "            \"architecture\": arch,\n",
    "            \"activation\": activation,\n",
    "            \"solver\": solver,\n",
    "            \"iterations\": max_iter,\n",
    "            \"random_state\": random_state_no,\n",
    "            \"train_accuracy\": train_acc,\n",
    "            \"test_accuracy\": test_acc,\n",
    "            \"time\": elapsed_time,\n",
    "            \"formatted_time\": formatted_time,\n",
    "            \"converged\": converged,\n",
    "            \"timestamp\": datetime.now().strftime(\"%Y-%m-%d %H:%M:%S\")\n",
    "        })\n",
    "        print(f\"Activation: {activation}, Train Accuracy: {train_acc:.2f}, Test Accuracy: {test_acc:.2f}, Time: {time.strftime(\"%H:%M:%S\", time.localtime(elapsed_time))} seconds\\n\")\n",
    "\n",
    "# Create a DataFrame to save results\n",
    "results_df = pd.DataFrame(results)\n",
    "\n",
    "# Append results to CSV\n",
    "if os.path.exists(file_path):\n",
    "    # Load existing data and append new results\n",
    "    existing_data = pd.read_csv(file_path)\n",
    "    updated_data = pd.concat([existing_data, results_df], ignore_index=True)\n",
    "    updated_data.to_csv(file_path, index=False)\n",
    "else:\n",
    "    # Create a new CSV file\n",
    "    results_df.to_csv(file_path, index=False)\n",
    "\n",
    "print(\"Results saved to\", file_path)\n",
    "\n",
    "print(\"The results: \",results_df)\n"
   ]
  },
  {
   "cell_type": "code",
   "execution_count": 11,
   "metadata": {},
   "outputs": [
    {
     "name": "stdout",
     "output_type": "stream",
     "text": [
      "Provided results saved to mlp_results_updated.csv\n"
     ]
    }
   ],
   "source": [
    "import pandas as pd\n",
    "import os\n",
    "from datetime import datetime\n",
    "\n",
    "# Provided results data\n",
    "provided_results = [\n",
    "    {\"architecture\": \"()\", \"activation\": \"relu\", \"train_accuracy\": 1.000000, \"test_accuracy\": 0.984206, \"time\": 97.39, \"convergence_warning\": False},\n",
    "    {\"architecture\": \"(5,)\", \"activation\": \"relu\", \"train_accuracy\": 0.990947, \"test_accuracy\": 0.989194, \"time\": 327.91, \"convergence_warning\": True},\n",
    "    {\"architecture\": \"(10,)\", \"activation\": \"relu\", \"train_accuracy\": 0.998522, \"test_accuracy\": 0.992242, \"time\": 87.67, \"convergence_warning\": False},\n",
    "    {\"architecture\": \"(5, 5)\", \"activation\": \"relu\", \"train_accuracy\": 0.991409, \"test_accuracy\": 0.989748, \"time\": 210.90, \"convergence_warning\": False},\n",
    "    {\"architecture\": \"(10, 5)\", \"activation\": \"relu\", \"train_accuracy\": 0.998707, \"test_accuracy\": 0.992242, \"time\": 214.71, \"convergence_warning\": False},\n",
    "    {\"architecture\": \"(10, 10, 5)\", \"activation\": \"relu\", \"train_accuracy\": 0.999538, \"test_accuracy\": 0.993350, \"time\": 339.80, \"convergence_warning\": False},\n",
    "    {\"architecture\": \"()\", \"activation\": \"tanh\", \"train_accuracy\": 1.000000, \"test_accuracy\": 0.984206, \"time\": 110.59, \"convergence_warning\": False},\n",
    "    {\"architecture\": \"(5,)\", \"activation\": \"tanh\", \"train_accuracy\": 0.988453, \"test_accuracy\": 0.985592, \"time\": 412.76, \"convergence_warning\": True},\n",
    "    {\"architecture\": \"(10,)\", \"activation\": \"tanh\", \"train_accuracy\": 0.993626, \"test_accuracy\": 0.987254, \"time\": 489.80, \"convergence_warning\": True},\n",
    "    {\"architecture\": \"(5, 5)\", \"activation\": \"tanh\", \"train_accuracy\": 0.987898, \"test_accuracy\": 0.987254, \"time\": 707.54, \"convergence_warning\": True},\n",
    "    {\"architecture\": \"(10, 5)\", \"activation\": \"tanh\", \"train_accuracy\": 0.992702, \"test_accuracy\": 0.990025, \"time\": 655.37, \"convergence_warning\": True},\n",
    "    {\"architecture\": \"(10, 10, 5)\", \"activation\": \"tanh\", \"train_accuracy\": 0.992517, \"test_accuracy\": 0.988640, \"time\": 940.86, \"convergence_warning\": True},\n",
    "]\n",
    "\n",
    "# File path for the results\n",
    "file_path = \"mlp_results_updated.csv\"\n",
    "\n",
    "# Enhance results with additional information\n",
    "for result in provided_results:\n",
    "    # Add timestamp\n",
    "    result[\"timestamp\"] = datetime.now().strftime(\"%Y-%m-%d %H:%M:%S\")\n",
    "    \n",
    "    # Determine convergence status\n",
    "    result[\"converged\"] = \"No (Did not converge)\" if result[\"convergence_warning\"] else \"Yes\"\n",
    "    \n",
    "    # Convert time to minutes and seconds\n",
    "    minutes, seconds = divmod(result[\"time\"], 60)\n",
    "    result[\"formatted_time\"] = f\"{int(minutes)}m {seconds:.2f}s\"\n",
    "\n",
    "# Convert the results into a DataFrame\n",
    "results_df = pd.DataFrame(provided_results)\n",
    "\n",
    "# Save or append the results to a CSV file\n",
    "if os.path.exists(file_path):\n",
    "    # Append new data to the existing file\n",
    "    existing_data = pd.read_csv(file_path)\n",
    "    updated_data = pd.concat([existing_data, results_df], ignore_index=True)\n",
    "    updated_data.to_csv(file_path, index=False)\n",
    "else:\n",
    "    # Create a new file if it doesn't exist\n",
    "    results_df.to_csv(file_path, index=False)\n",
    "\n",
    "print(f\"Provided results saved to {file_path}\")\n"
   ]
  },
  {
   "cell_type": "code",
   "execution_count": 14,
   "metadata": {},
   "outputs": [
    {
     "name": "stdout",
     "output_type": "stream",
     "text": [
      "Indices of misclassified samples: [  72  276  392  452  454  465  624  657  716  795  932 1029 1055 1117\n",
      " 1413 1479 1637 1686 1694 1729 1799 1815 1875 1906 1930 1937 2218 2243\n",
      " 2428 2470 2511 2551 2609 2677 2757 2908 2981 3100 3250 3514 3536]\n"
     ]
    }
   ],
   "source": [
    "import numpy as np\n",
    "\n",
    "# Generate predictions\n",
    "predictions = mlp.predict(X_test)\n",
    "\n",
    "# Find misclassified indices\n",
    "misclass_indices = np.where(y_test != predictions)[0]\n",
    "\n",
    "print(\"Indices of misclassified samples:\", misclass_indices)\n"
   ]
  },
  {
   "cell_type": "code",
   "execution_count": 16,
   "metadata": {},
   "outputs": [
    {
     "data": {
      "image/png": "[encoded data removed]",
      "text/plain": [
       "<Figure size 640x480 with 1 Axes>"
      ]
     },
     "metadata": {},
     "output_type": "display_data"
    },
    {
     "data": {
      "image/png": "[encoded data removed]",
      "text/plain": [
       "<Figure size 640x480 with 1 Axes>"
      ]
     },
     "metadata": {},
     "output_type": "display_data"
    },
    {
     "data": {
      "image/png": "[encoded data removed]",
      "text/plain": [
       "<Figure size 640x480 with 1 Axes>"
      ]
     },
     "metadata": {},
     "output_type": "display_data"
    },
    {
     "data": {
      "image/png": "[encoded data removed]",
      "text/plain": [
       "<Figure size 640x480 with 1 Axes>"
      ]
     },
     "metadata": {},
     "output_type": "display_data"
    },
    {
     "data": {
      "image/png": "[encoded data removed]",
      "text/plain": [
       "<Figure size 640x480 with 1 Axes>"
      ]
     },
     "metadata": {},
     "output_type": "display_data"
    },
    {
     "data": {
      "image/png": "[encoded data removed]",
      "text/plain": [
       "<Figure size 640x480 with 1 Axes>"
      ]
     },
     "metadata": {},
     "output_type": "display_data"
    },
    {
     "data": {
      "image/png": "[encoded data removed]",
      "text/plain": [
       "<Figure size 640x480 with 1 Axes>"
      ]
     },
     "metadata": {},
     "output_type": "display_data"
    },
    {
     "data": {
      "image/png": "[encoded data removed]",
      "text/plain": [
       "<Figure size 640x480 with 1 Axes>"
      ]
     },
     "metadata": {},
     "output_type": "display_data"
    },
    {
     "data": {
      "image/png": "[encoded data removed]",
      "text/plain": [
       "<Figure size 640x480 with 1 Axes>"
      ]
     },
     "metadata": {},
     "output_type": "display_data"
    },
    {
     "data": {
      "image/png": "[encoded data removed]",
      "text/plain": [
       "<Figure size 640x480 with 1 Axes>"
      ]
     },
     "metadata": {},
     "output_type": "display_data"
    }
   ],
   "source": [
    "import matplotlib.pyplot as plt\n",
    "\n",
    "# Iterate over the first 10 misclassified samples\n",
    "for idx in misclass_indices[:10]:  # Limit visualization to the first 10\n",
    "    # Reshape and display the image\n",
    "    plt.imshow(X_test[idx].reshape(28, 28), cmap='gray')\n",
    "    \n",
    "    # Use .iloc to access the true label by positional index\n",
    "    true_label = y_test.iloc[idx] if isinstance(y_test, pd.Series) else y_test[idx]\n",
    "    predicted_label = predictions[idx]\n",
    "    \n",
    "    plt.title(f\"True: {true_label}, Predicted: {predicted_label}\")\n",
    "    plt.axis('off')  # Turn off axis labels for clarity\n",
    "    plt.show()\n"
   ]
  },
  {
   "cell_type": "markdown",
   "metadata": {},
   "source": [
    "We next investigate the capability of the different learning approaches to find a good model, when we know that a very accurate model exists. For this, we add a 'cheat column' to our data: we add an additional column to the data matrix that simply contains a 0/1 encoding of the actual class label: "
   ]
  },
  {
   "cell_type": "code",
   "execution_count": null,
   "metadata": {},
   "outputs": [],
   "source": [
    "cheatcol=np.array(mnist_bin_target) #making a copy of the original target array\n",
    "cheatcol[cheatcol==digit0]=0  #re-coding the two classes as 0s and 1s\n",
    "cheatcol[cheatcol==digit1]=1\n",
    "\n",
    "# The type of the target array is originally 'object' (the values '0','1',...,'9' are seen as categorical labels,\n",
    "# not as numbers). We now want to use the 0's and 1's as numbers: \n",
    "cheatcol=cheatcol.astype(float)\n",
    "\n",
    "cheatcol=np.reshape(cheatcol,[mnist_bin_data.shape[0],1]) #getting the dimensions right for the following .hstack operation to work ... \n",
    "mnist_bin_data_cheat = np.hstack((mnist_bin_data,cheatcol)) #appending the new column"
   ]
  },
  {
   "cell_type": "markdown",
   "metadata": {},
   "source": [
    "All our candidate model types now are able, in principle, to construct a 100% accurate classifier for this data: we only have to 'learn' that only the last column in the data matters, and we can predict 'digit0' if we find a 0 in the last column and 'digit1' if we find a 1. All our SVM or NN network models would in principle be able to do just this, through a suitable setting of the SVM coefficients, respectively the NN weights.\n",
    "\n",
    "**Exercise 2:** \n",
    "\n",
    "**a** Describe, briefly, how the coefficients and weights of an SVM and NN model (with a suitably chosen number of layers) would have to be set, so that the resulting model is 100% accurate on this cheating data. Only consider the accuracy of the SVM or NN classifier defined by the coefficients/weights. You need not take into account that the SVM satisfies the max-margin objective, or that the NN minimizes its error function. This part of the exercise does not involve any Python code. Just give your answer in a short text.\n",
    "\n",
    "**b** Investigate how the accuracy of different SVM and NN classifiers improves in practice on this new dataset. Do you achieve 100% accuracy on the test set? If not, try to change the encoding in the cheat column: instead of representing digit1 with a 1, use a larger number, e.g. 250. Does that help? Why? This part of the exercise is in Python!"
   ]
  },
  {
   "cell_type": "code",
   "execution_count": null,
   "metadata": {},
   "outputs": [],
   "source": []
  },
  {
   "cell_type": "markdown",
   "metadata": {},
   "source": [
    "**Exercise 3:** (Now back to the data without a cheating column!) Suppose you want to design a custom kernel function for the MNIST data that better captures the relevant properties of 'similarity' in this data than the generic 'rbf' or 'poly' kernels. Bear in mind that the data as seen by our classifiers and kernel functions just consists of arrays of length 784. \n",
    "\n",
    "Describe one or two ideas for defining such a kernel. You need not show that the kernel you propose actually is positive semi-definite (though as a bonus, you can try to provide some arguments for that). This is a text-only exercise -- no sklearn code required!\n",
    "\n",
    "If you are really curious, you can implement your kernel as a function, and use it as a custom kernel. See http://scikit-learn.org/stable/auto_examples/svm/plot_custom_kernel.html#sphx-glr-auto-examples-svm-plot-custom-kernel-py for an example of how that is done."
   ]
  },
  {
   "cell_type": "code",
   "execution_count": null,
   "metadata": {},
   "outputs": [],
   "source": []
  }
 ],
 "metadata": {
  "kernelspec": {
   "display_name": "base",
   "language": "python",
   "name": "python3"
  },
  "language_info": {
   "codemirror_mode": {
    "name": "ipython",
    "version": 3
   },
   "file_extension": ".py",
   "mimetype": "text/x-python",
   "name": "python",
   "nbconvert_exporter": "python",
   "pygments_lexer": "ipython3",
   "version": "3.12.7"
  }
 },
 "nbformat": 4,
 "nbformat_minor": 4
}
