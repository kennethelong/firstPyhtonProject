{
 "cells": [
  {
   "cell_type": "code",
   "execution_count": null,
   "metadata": {},
   "outputs": [],
   "source": [
    "import mglearn\n",
    "%matplotlib inline\n",
    "import numpy as np\n",
    "import matplotlib.pyplot as plt\n",
    "import pandas as pd\n",
    "from IPython.display import display\n",
    "from sklearn.model_selection import train_test_split\n",
    "import scipy as scipy\n",
    "import seaborn as sns\n",
    "\n",
    "import ssl \n",
    "ssl._create_default_https_context = ssl._create_unverified_context\n",
    "\n",
    "import warnings\n",
    "warnings.simplefilter(action='ignore', category=FutureWarning)"
   ]
  },
  {
   "cell_type": "markdown",
   "metadata": {},
   "source": [
    "# Exercise\n",
    "\n",
    "We shall once again play around with the Boston housing data set"
   ]
  },
  {
   "cell_type": "code",
   "execution_count": null,
   "metadata": {},
   "outputs": [],
   "source": [
    "from sklearn.datasets import fetch_california_housing\n",
    "data = fetch_california_housing(as_frame=True)"
   ]
  },
  {
   "cell_type": "markdown",
   "metadata": {},
   "source": [
    "Again we treat it as a classification problem:"
   ]
  },
  {
   "cell_type": "code",
   "execution_count": null,
   "metadata": {},
   "outputs": [],
   "source": [
    "c = np.array([1 if y > np.median(data['target']) else 0 for y in data['target']])\n",
    "X_train, X_test, c_train, c_test = train_test_split(data['data'], c, random_state=0)"
   ]
  },
  {
   "cell_type": "markdown",
   "metadata": {},
   "source": [
    "## Learn and evaluate the model"
   ]
  },
  {
   "cell_type": "code",
   "execution_count": null,
   "metadata": {},
   "outputs": [],
   "source": [
    "from sklearn.tree import DecisionTreeClassifier\n",
    "tree = DecisionTreeClassifier(random_state=42)\n",
    "tree.fit(X_train, c_train)"
   ]
  },
  {
   "cell_type": "markdown",
   "metadata": {},
   "source": [
    "### *Exercise:* Model evaluation\n",
    "* What is the predicted class probabilisties for the first instance in the test set?\n",
    "* How does the model perform over the entire test set and training set?"
   ]
  },
  {
   "cell_type": "markdown",
   "metadata": {},
   "source": [
    "### *Exercise:* Model analysis\n",
    "\n",
    "* Display the decision tree (use the code snippet from the Decision tree notebook)\n",
    "* Extract the first instance from the test set (X_test[0,:])\n",
    "* Manually use the visualized decision tree to classify this first instance. Does the predicted class match what you found above?\n",
    "* What are the most important features as determined the learned tree and how does these features relate to the decision tree you found?"
   ]
  },
  {
   "cell_type": "markdown",
   "metadata": {},
   "source": [
    "### *Exercise:* Model complexity\n",
    "\n",
    "* The complexity of the model can be controlled by the parameters:\n",
    "    - max_depth\n",
    "    - min_samples_split\n",
    "    - min_samples_leaf\n",
    "* The parameters should be supplied at construction time, e,g,. `tree = DecisionTreeClassifier(min_samples_split=25)`  \n",
    "* Investigate the effect of controlling the complexity of the decision tree:\n",
    "    - Visualize the trees\n",
    "    - Evaluate the performance on both the test and training set"
   ]
  },
  {
   "cell_type": "code",
   "execution_count": null,
   "metadata": {},
   "outputs": [],
   "source": []
  }
 ],
 "metadata": {
  "kernelspec": {
   "display_name": "Python 3 (ipykernel)",
   "language": "python",
   "name": "python3"
  },
  "language_info": {
   "codemirror_mode": {
    "name": "ipython",
    "version": 3
   },
   "file_extension": ".py",
   "mimetype": "text/x-python",
   "name": "python",
   "nbconvert_exporter": "python",
   "pygments_lexer": "ipython3",
   "version": "3.10.15"
  }
 },
 "nbformat": 4,
 "nbformat_minor": 4
}
