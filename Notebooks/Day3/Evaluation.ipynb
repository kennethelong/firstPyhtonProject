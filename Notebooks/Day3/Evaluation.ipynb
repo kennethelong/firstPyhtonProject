{
 "cells": [
  {
   "cell_type": "code",
   "execution_count": 1,
   "metadata": {},
   "outputs": [],
   "source": [
    "import mglearn\n",
    "%matplotlib inline\n",
    "import numpy as np\n",
    "import matplotlib.pyplot as plt\n",
    "import pandas as pd\n",
    "from IPython.display import display\n",
    "from sklearn.model_selection import train_test_split\n",
    "import scipy as scipy\n",
    "import sys\n",
    "sys.path.append(\"/usr/local/lib/python2.7/dist-packages\") \n",
    "import seaborn as sns"
   ]
  },
  {
   "cell_type": "markdown",
   "metadata": {
    "collapsed": true
   },
   "source": [
    "# Cross validation for evaluation\n",
    "\n",
    "Benefits of cross validation:\n",
    "* Uses the data more effectively than when using a standard training and test division\n",
    "* More robust (with train-test division you may get (un)lucky)\n",
    "* Gives insight into the sensitivity of the model\n",
    "\n",
    "Disadvantage:\n",
    "* Computational cost"
   ]
  },
  {
   "cell_type": "markdown",
   "metadata": {},
   "source": [
    "## Example"
   ]
  },
  {
   "cell_type": "code",
   "execution_count": 2,
   "metadata": {},
   "outputs": [],
   "source": [
    "from sklearn.datasets import load_breast_cancer\n",
    "cancer = load_breast_cancer()"
   ]
  },
  {
   "cell_type": "markdown",
   "metadata": {},
   "source": [
    "### Using a decision tree"
   ]
  },
  {
   "cell_type": "code",
   "execution_count": 3,
   "metadata": {},
   "outputs": [
    {
     "name": "stdout",
     "output_type": "stream",
     "text": [
      "Cross validation scores: [0.9122807  0.92105263 0.92105263 0.96491228 0.89380531]\n"
     ]
    }
   ],
   "source": [
    "from sklearn.model_selection import cross_val_score\n",
    "from sklearn.tree import DecisionTreeClassifier\n",
    "tree = DecisionTreeClassifier()\n",
    "scores = cross_val_score(tree, cancer.data, cancer.target, cv=5)\n",
    "print(\"Cross validation scores: {}\".format(scores))"
   ]
  },
  {
   "cell_type": "code",
   "execution_count": 4,
   "metadata": {
    "scrolled": true
   },
   "outputs": [
    {
     "name": "stdout",
     "output_type": "stream",
     "text": [
      "Average cross validation score: 0.9226207110697097\n"
     ]
    }
   ],
   "source": [
    "print(\"Average cross validation score: {}\".format(scores.mean()))"
   ]
  },
  {
   "cell_type": "code",
   "execution_count": 5,
   "metadata": {},
   "outputs": [
    {
     "name": "stdout",
     "output_type": "stream",
     "text": [
      "Standard deviation of the cross validation scores: 0.023369799978905294\n"
     ]
    }
   ],
   "source": [
    "print(\"Standard deviation of the cross validation scores: {}\".format(scores.std()))"
   ]
  },
  {
   "cell_type": "markdown",
   "metadata": {},
   "source": [
    "### Using a naive Bayes"
   ]
  },
  {
   "cell_type": "code",
   "execution_count": 6,
   "metadata": {},
   "outputs": [],
   "source": [
    "from sklearn.naive_bayes import GaussianNB\n",
    "nb = GaussianNB()\n",
    "scores = cross_val_score(nb, cancer.data, cancer.target)"
   ]
  },
  {
   "cell_type": "code",
   "execution_count": 7,
   "metadata": {},
   "outputs": [
    {
     "name": "stdout",
     "output_type": "stream",
     "text": [
      "Cross validation scores: [0.92105263 0.92105263 0.94736842 0.94736842 0.95575221]\n"
     ]
    }
   ],
   "source": [
    "print(\"Cross validation scores: {}\".format(scores))"
   ]
  },
  {
   "cell_type": "code",
   "execution_count": 8,
   "metadata": {},
   "outputs": [
    {
     "name": "stdout",
     "output_type": "stream",
     "text": [
      "Average cross validation score: 0.9385188635305075\n"
     ]
    }
   ],
   "source": [
    "print(\"Average cross validation score: {}\".format(scores.mean()))"
   ]
  },
  {
   "cell_type": "code",
   "execution_count": 9,
   "metadata": {},
   "outputs": [
    {
     "name": "stdout",
     "output_type": "stream",
     "text": [
      "Standard deviation of the cross validation scores: 0.014585994424363306\n"
     ]
    }
   ],
   "source": [
    "print(\"Standard deviation of the cross validation scores: {}\".format(scores.std()))"
   ]
  },
  {
   "cell_type": "markdown",
   "metadata": {},
   "source": [
    "### Leave one out cross validation\n",
    "\n",
    "Leave one out cross validation is a special type of cross validation, where each fold is a single sample\n",
    "* Can provides better estimates on smaller datasets, but is more time.consuming"
   ]
  },
  {
   "cell_type": "code",
   "execution_count": 10,
   "metadata": {},
   "outputs": [],
   "source": [
    "from sklearn.model_selection import LeaveOneOut\n",
    "loo = LeaveOneOut()"
   ]
  },
  {
   "cell_type": "code",
   "execution_count": 11,
   "metadata": {},
   "outputs": [],
   "source": [
    "nb = GaussianNB()\n",
    "scores = cross_val_score(nb, cancer.data, cancer.target, cv=loo)"
   ]
  },
  {
   "cell_type": "code",
   "execution_count": 12,
   "metadata": {},
   "outputs": [
    {
     "name": "stdout",
     "output_type": "stream",
     "text": [
      "Cross validation scores: [1. 1. 1. 1. 1. 1. 1. 1. 1. 1. 1. 1. 1. 0. 1. 1. 1. 1. 1. 1. 1. 1. 1. 1.\n",
      " 1. 1. 1. 1. 1. 1. 1. 1. 1. 1. 1. 1. 1. 1. 1. 1. 0. 0. 1. 1. 0. 1. 1. 1.\n",
      " 1. 1. 1. 1. 1. 1. 0. 1. 1. 1. 1. 1. 1. 1. 1. 1. 1. 1. 1. 1. 0. 1. 1. 1.\n",
      " 1. 0. 1. 1. 1. 1. 1. 1. 1. 1. 1. 1. 1. 1. 0. 1. 1. 0. 1. 0. 1. 1. 1. 1.\n",
      " 1. 1. 1. 0. 0. 1. 1. 1. 1. 1. 1. 1. 1. 1. 1. 1. 0. 1. 1. 1. 1. 1. 1. 1.\n",
      " 1. 1. 1. 1. 1. 1. 0. 1. 0. 1. 1. 1. 1. 1. 1. 0. 1. 1. 1. 1. 1. 1. 1. 1.\n",
      " 1. 1. 1. 1. 1. 1. 1. 1. 0. 1. 1. 1. 1. 0. 1. 1. 1. 1. 1. 1. 1. 1. 1. 1.\n",
      " 1. 1. 1. 0. 1. 1. 1. 1. 1. 1. 1. 1. 1. 1. 1. 1. 0. 1. 1. 1. 1. 1. 1. 1.\n",
      " 1. 1. 1. 1. 1. 1. 1. 1. 1. 1. 1. 1. 1. 0. 1. 1. 1. 1. 1. 1. 1. 1. 1. 0.\n",
      " 1. 1. 1. 1. 1. 1. 1. 1. 1. 1. 1. 1. 1. 1. 1. 1. 1. 1. 1. 1. 1. 1. 1. 1.\n",
      " 1. 1. 1. 1. 1. 1. 1. 0. 1. 1. 1. 1. 1. 1. 1. 0. 1. 1. 1. 1. 1. 1. 1. 0.\n",
      " 1. 1. 1. 1. 1. 1. 1. 1. 1. 1. 1. 1. 1. 1. 1. 1. 1. 1. 1. 1. 1. 1. 1. 1.\n",
      " 1. 1. 0. 1. 1. 1. 1. 1. 1. 0. 1. 1. 1. 1. 1. 1. 1. 1. 1. 1. 1. 1. 1. 1.\n",
      " 1. 1. 1. 1. 1. 1. 1. 1. 1. 1. 1. 1. 1. 1. 1. 1. 1. 1. 1. 1. 1. 1. 1. 1.\n",
      " 1. 1. 1. 1. 1. 1. 1. 1. 1. 1. 1. 1. 1. 1. 1. 1. 1. 1. 1. 1. 1. 1. 1. 1.\n",
      " 1. 1. 1. 1. 1. 1. 1. 1. 1. 1. 1. 1. 1. 1. 1. 1. 1. 1. 1. 1. 1. 1. 1. 1.\n",
      " 1. 0. 1. 1. 1. 1. 1. 1. 1. 1. 1. 1. 1. 1. 1. 1. 1. 1. 1. 1. 1. 1. 1. 1.\n",
      " 1. 1. 1. 1. 1. 1. 0. 1. 1. 1. 1. 1. 1. 0. 1. 1. 1. 1. 1. 1. 1. 1. 1. 1.\n",
      " 1. 1. 1. 1. 1. 1. 1. 1. 1. 1. 1. 1. 1. 1. 1. 1. 1. 1. 1. 1. 1. 1. 1. 1.\n",
      " 1. 1. 1. 1. 1. 1. 1. 1. 1. 0. 1. 1. 1. 1. 1. 1. 1. 1. 1. 1. 1. 1. 1. 1.\n",
      " 1. 1. 1. 1. 1. 0. 1. 1. 1. 1. 1. 0. 1. 1. 1. 1. 1. 1. 1. 1. 1. 1. 1. 1.\n",
      " 1. 1. 1. 1. 1. 1. 1. 1. 1. 1. 0. 1. 1. 1. 1. 1. 1. 1. 1. 1. 1. 1. 1. 1.\n",
      " 1. 1. 1. 1. 1. 1. 1. 1. 0. 1. 1. 1. 1. 1. 1. 1. 1. 1. 1. 1. 1. 1. 1. 1.\n",
      " 1. 1. 1. 1. 1. 1. 1. 1. 1. 1. 1. 1. 1. 1. 1. 1. 1.]\n"
     ]
    }
   ],
   "source": [
    "print(\"Cross validation scores: {}\".format(scores))"
   ]
  },
  {
   "cell_type": "code",
   "execution_count": 13,
   "metadata": {},
   "outputs": [
    {
     "name": "stdout",
     "output_type": "stream",
     "text": [
      "Average cross validation score: 0.9384885764499121\n"
     ]
    }
   ],
   "source": [
    "print(\"Average cross validation score: {}\".format(scores.mean()))"
   ]
  },
  {
   "cell_type": "code",
   "execution_count": 14,
   "metadata": {},
   "outputs": [
    {
     "name": "stdout",
     "output_type": "stream",
     "text": [
      "Standard deviation of the cross validation scores: 0.24026603655724954\n"
     ]
    }
   ],
   "source": [
    "print(\"Standard deviation of the cross validation scores: {}\".format(scores.std()))"
   ]
  },
  {
   "cell_type": "markdown",
   "metadata": {},
   "source": [
    "# Overfitting"
   ]
  },
  {
   "cell_type": "markdown",
   "metadata": {},
   "source": [
    "## Load the data"
   ]
  },
  {
   "cell_type": "code",
   "execution_count": 16,
   "metadata": {},
   "outputs": [],
   "source": [
    "from sklearn.datasets import load_breast_cancer\n",
    "\n",
    "# Load the data and divide into training and test\n",
    "cancer = load_breast_cancer()\n",
    "X_train, X_test, y_train, y_test = train_test_split(\n",
    "    cancer.data, cancer.target, stratify=cancer.target, random_state=42)"
   ]
  },
  {
   "cell_type": "markdown",
   "metadata": {},
   "source": [
    "## Decision tree overfitting"
   ]
  },
  {
   "cell_type": "code",
   "execution_count": 17,
   "metadata": {},
   "outputs": [
    {
     "data": {
      "text/plain": [
       "<matplotlib.legend.Legend at 0x7fa75d55f3c8>"
      ]
     },
     "execution_count": 17,
     "metadata": {},
     "output_type": "execute_result"
    },
    {
     "data": {
      "image/png": "[encoded data removed]",
      "text/plain": [
       "<matplotlib.figure.Figure at 0x7fa75d60b978>"
      ]
     },
     "metadata": {},
     "output_type": "display_data"
    }
   ],
   "source": [
    "from sklearn.tree import DecisionTreeClassifier\n",
    "\n",
    "training_accuracy = []\n",
    "test_accuracy = []\n",
    "# try max depths from 1 to 10\n",
    "max_depth_list = range(1, 11)\n",
    "\n",
    "for depth in max_depth_list:\n",
    "    # build the model\n",
    "    clf = DecisionTreeClassifier(max_depth=depth)\n",
    "    clf.fit(X_train, y_train)\n",
    "    # record training set accuracy\n",
    "    training_accuracy.append(clf.score(X_train, y_train))\n",
    "    # record generalization accuracy\n",
    "    test_accuracy.append(clf.score(X_test, y_test))\n",
    "    \n",
    "plt.plot(max_depth_list, training_accuracy, label=\"training accuracy\")\n",
    "plt.plot(max_depth_list, test_accuracy, label=\"test accuracy\")\n",
    "plt.ylabel(\"Accuracy\")\n",
    "plt.xlabel(\"n_neighbors\")\n",
    "plt.legend()"
   ]
  },
  {
   "cell_type": "markdown",
   "metadata": {},
   "source": [
    "## kNN overfitting"
   ]
  },
  {
   "cell_type": "code",
   "execution_count": 18,
   "metadata": {},
   "outputs": [
    {
     "data": {
      "text/plain": [
       "<matplotlib.legend.Legend at 0x7fa75d41cf28>"
      ]
     },
     "execution_count": 18,
     "metadata": {},
     "output_type": "execute_result"
    },
    {
     "data": {
      "image/png": "[encoded data removed]",
      "text/plain": [
       "<matplotlib.figure.Figure at 0x7fa75d60b400>"
      ]
     },
     "metadata": {},
     "output_type": "display_data"
    }
   ],
   "source": [
    "from sklearn.neighbors import KNeighborsClassifier\n",
    "\n",
    "training_accuracy = []\n",
    "test_accuracy = []\n",
    "# try n_neighbors from 1 to 10\n",
    "neighbors_settings = range(1, 11)\n",
    "\n",
    "for n_neighbors in neighbors_settings:\n",
    "    # build the model\n",
    "    clf = KNeighborsClassifier(n_neighbors=n_neighbors)\n",
    "    clf.fit(X_train, y_train)\n",
    "    # record training set accuracy\n",
    "    training_accuracy.append(clf.score(X_train, y_train))\n",
    "    # record generalization accuracy\n",
    "    test_accuracy.append(clf.score(X_test, y_test))\n",
    "    \n",
    "plt.plot(neighbors_settings, training_accuracy, label=\"training accuracy\")\n",
    "plt.plot(neighbors_settings, test_accuracy, label=\"test accuracy\")\n",
    "plt.ylabel(\"Accuracy\")\n",
    "plt.xlabel(\"n_neighbors\")\n",
    "plt.legend()"
   ]
  },
  {
   "cell_type": "markdown",
   "metadata": {},
   "source": [
    "## Selecting parameters using a validation set"
   ]
  },
  {
   "cell_type": "code",
   "execution_count": 19,
   "metadata": {},
   "outputs": [],
   "source": [
    "from sklearn.neighbors import KNeighborsClassifier\n",
    "from sklearn.datasets import load_breast_cancer"
   ]
  },
  {
   "cell_type": "markdown",
   "metadata": {},
   "source": [
    "Divide the data into training data, validation data, and test data"
   ]
  },
  {
   "cell_type": "code",
   "execution_count": 20,
   "metadata": {},
   "outputs": [
    {
     "name": "stdout",
     "output_type": "stream",
     "text": [
      "Size of training set:319\n",
      "Size of validation set:107\n",
      "Size of test set:143\n"
     ]
    }
   ],
   "source": [
    "cancer = load_breast_cancer()\n",
    "X_trainval, X_test, y_trainval, y_test = train_test_split(cancer.data, cancer.target, random_state=42)\n",
    "X_train, X_val, y_train, y_val = train_test_split(X_trainval, y_trainval, random_state=43)\n",
    "print(\"Size of training set:{}\".format(X_train.shape[0]))\n",
    "print(\"Size of validation set:{}\".format(X_val.shape[0]))\n",
    "print(\"Size of test set:{}\".format(X_test.shape[0]))"
   ]
  },
  {
   "cell_type": "markdown",
   "metadata": {},
   "source": [
    "Find the best number of neighbors using the validation set"
   ]
  },
  {
   "cell_type": "code",
   "execution_count": 21,
   "metadata": {},
   "outputs": [
    {
     "name": "stdout",
     "output_type": "stream",
     "text": [
      "Best number of neighbors found: 8\n",
      "Best score on validation set: 0.9626168224299065\n",
      "Score on training/validation set: 0.9389671361502347\n",
      "Score on test set: 0.958041958041958\n"
     ]
    }
   ],
   "source": [
    "best_score = 0\n",
    "for num_neighbors in range(1,15):\n",
    "    # Learn the model with a certain numnber of neighbors\n",
    "    knn = KNeighborsClassifier(n_neighbors=num_neighbors)\n",
    "    knn.fit(X_train, y_train)\n",
    "    \n",
    "    # Evaluate the model\n",
    "    score = knn.score(X_val, y_val)\n",
    "    \n",
    "    # If improvement, store score and parameter\n",
    "    if score>best_score:\n",
    "        best_score = score\n",
    "        best_num_neighbors = num_neighbors\n",
    "\n",
    "# Build a model on the combine training and valiation data\n",
    "knn = KNeighborsClassifier(n_neighbors=best_num_neighbors)\n",
    "knn.fit(X_trainval, y_trainval)\n",
    "\n",
    "print(\"Best number of neighbors found: {}\".format(best_num_neighbors))\n",
    "print(\"Best score on validation set: {}\".format(best_score))\n",
    "print(\"Score on training/validation set: {}\".format(knn.score(X_trainval, y_trainval)))\n",
    "print(\"Score on test set: {}\".format(knn.score(X_test, y_test)))"
   ]
  },
  {
   "cell_type": "markdown",
   "metadata": {},
   "source": [
    "## Selecting parameters using cross validation"
   ]
  },
  {
   "cell_type": "code",
   "execution_count": 22,
   "metadata": {},
   "outputs": [
    {
     "data": {
      "image/png": "[encoded data removed]",
      "text/plain": [
       "<matplotlib.figure.Figure at 0x7fa75d4c08d0>"
      ]
     },
     "metadata": {},
     "output_type": "display_data"
    }
   ],
   "source": [
    "mglearn.plots.plot_grid_search_overview()"
   ]
  },
  {
   "cell_type": "markdown",
   "metadata": {},
   "source": [
    "Divide the data into training data and test data (no validation data!)"
   ]
  },
  {
   "cell_type": "code",
   "execution_count": 23,
   "metadata": {},
   "outputs": [
    {
     "name": "stdout",
     "output_type": "stream",
     "text": [
      "Size of training set:319\n",
      "Size of test set:143\n"
     ]
    }
   ],
   "source": [
    "cancer = load_breast_cancer()\n",
    "X_trainval, X_test, y_trainval, y_test = train_test_split(cancer.data, cancer.target, random_state=42)\n",
    "print(\"Size of training set:{}\".format(X_train.shape[0]))\n",
    "print(\"Size of test set:{}\".format(X_test.shape[0]))"
   ]
  },
  {
   "cell_type": "markdown",
   "metadata": {},
   "source": [
    "Find the best number of neighbors using cross validation"
   ]
  },
  {
   "cell_type": "code",
   "execution_count": 24,
   "metadata": {},
   "outputs": [
    {
     "name": "stdout",
     "output_type": "stream",
     "text": [
      "Best number of neighbors found: 8\n",
      "Best average score: 0.9293466223698781\n",
      "Score on training/validation set: 0.9389671361502347\n",
      "Score on test set: 0.958041958041958\n"
     ]
    }
   ],
   "source": [
    "from sklearn.model_selection import cross_val_score\n",
    "best_score = 0\n",
    "for num_neighbors in range(1,15):\n",
    "    # Set a certain number of neighbors\n",
    "    knn = KNeighborsClassifier(n_neighbors=num_neighbors)\n",
    "    \n",
    "    # Perform cross validation\n",
    "    scores = cross_val_score(knn, X_trainval, y_trainval, cv=5)\n",
    "    \n",
    "    # Compute the mean score\n",
    "    score = scores.mean()\n",
    "    \n",
    "    # If improvement, store score and parameter\n",
    "    if score>best_score:\n",
    "        best_score = score\n",
    "        best_num_neighbors = num_neighbors\n",
    "\n",
    "# Build a model on the combine training and valiation data\n",
    "knn = KNeighborsClassifier(n_neighbors=best_num_neighbors)\n",
    "knn.fit(X_trainval, y_trainval)\n",
    "\n",
    "print(\"Best number of neighbors found: {}\".format(best_num_neighbors))\n",
    "print(\"Best average score: {}\".format(best_score))\n",
    "print(\"Score on training/validation set: {}\".format(knn.score(X_trainval, y_trainval)))\n",
    "print(\"Score on test set: {}\".format(knn.score(X_test, y_test)))"
   ]
  },
  {
   "cell_type": "markdown",
   "metadata": {},
   "source": [
    "### sklearn actually has support for performing this operation"
   ]
  },
  {
   "cell_type": "code",
   "execution_count": 25,
   "metadata": {},
   "outputs": [],
   "source": [
    "from sklearn.model_selection import GridSearchCV\n",
    "from sklearn.neighbors import KNeighborsClassifier"
   ]
  },
  {
   "cell_type": "code",
   "execution_count": 26,
   "metadata": {},
   "outputs": [],
   "source": [
    "# Fix the parameter space\n",
    "parameters = {'n_neighbors': range(1,15)}\n",
    "grid_search = GridSearchCV(KNeighborsClassifier(), parameters, cv=5, return_train_score=True)"
   ]
  },
  {
   "cell_type": "code",
   "execution_count": 27,
   "metadata": {},
   "outputs": [],
   "source": [
    "# Load the data and divide into train and test\n",
    "cancer = load_breast_cancer()\n",
    "X_train, X_test, y_train, y_test = train_test_split(cancer.data, cancer.target, random_state=42)"
   ]
  },
  {
   "cell_type": "markdown",
   "metadata": {},
   "source": [
    "Perform the search; all results are stored within `grid_search`"
   ]
  },
  {
   "cell_type": "code",
   "execution_count": 28,
   "metadata": {},
   "outputs": [
    {
     "data": {
      "text/plain": [
       "GridSearchCV(cv=5, error_score='raise',\n",
       "       estimator=KNeighborsClassifier(algorithm='auto', leaf_size=30, metric='minkowski',\n",
       "           metric_params=None, n_jobs=1, n_neighbors=5, p=2,\n",
       "           weights='uniform'),\n",
       "       fit_params=None, iid=True, n_jobs=1,\n",
       "       param_grid={'n_neighbors': range(1, 15)}, pre_dispatch='2*n_jobs',\n",
       "       refit=True, return_train_score=True, scoring=None, verbose=0)"
      ]
     },
     "execution_count": 28,
     "metadata": {},
     "output_type": "execute_result"
    }
   ],
   "source": [
    "grid_search.fit(X_train, y_train)"
   ]
  },
  {
   "cell_type": "markdown",
   "metadata": {},
   "source": [
    "Print some results"
   ]
  },
  {
   "cell_type": "code",
   "execution_count": 29,
   "metadata": {},
   "outputs": [
    {
     "name": "stdout",
     "output_type": "stream",
     "text": [
      "Test score: 0.96\n"
     ]
    }
   ],
   "source": [
    "print(\"Test score: {:.2f}\".format(grid_search.score(X_test, y_test)))"
   ]
  },
  {
   "cell_type": "code",
   "execution_count": 30,
   "metadata": {},
   "outputs": [
    {
     "name": "stdout",
     "output_type": "stream",
     "text": [
      "Best parameter: {'n_neighbors': 8}\n"
     ]
    }
   ],
   "source": [
    "print(\"Best parameter: {}\".format(grid_search.best_params_))"
   ]
  },
  {
   "cell_type": "code",
   "execution_count": 31,
   "metadata": {},
   "outputs": [
    {
     "name": "stdout",
     "output_type": "stream",
     "text": [
      "Best cross-validation score: 0.9295774647887324\n"
     ]
    }
   ],
   "source": [
    "print(\"Best cross-validation score: {}\".format(grid_search.best_score_))"
   ]
  },
  {
   "cell_type": "code",
   "execution_count": 32,
   "metadata": {},
   "outputs": [
    {
     "name": "stdout",
     "output_type": "stream",
     "text": [
      "Best estimator: KNeighborsClassifier(algorithm='auto', leaf_size=30, metric='minkowski',\n",
      "           metric_params=None, n_jobs=1, n_neighbors=8, p=2,\n",
      "           weights='uniform')\n"
     ]
    }
   ],
   "source": [
    "print(\"Best estimator: {}\".format(grid_search.best_estimator_))"
   ]
  },
  {
   "cell_type": "code",
   "execution_count": 33,
   "metadata": {},
   "outputs": [
    {
     "data": {
      "text/html": [
       "<div>\n",
       "<table border=\"1\" class=\"dataframe\">\n",
       "  <thead>\n",
       "    <tr style=\"text-align: right;\">\n",
       "      <th></th>\n",
       "      <th>mean_fit_time</th>\n",
       "      <th>mean_score_time</th>\n",
       "      <th>mean_test_score</th>\n",
       "      <th>mean_train_score</th>\n",
       "      <th>param_n_neighbors</th>\n",
       "      <th>params</th>\n",
       "      <th>rank_test_score</th>\n",
       "      <th>split0_test_score</th>\n",
       "      <th>split0_train_score</th>\n",
       "      <th>split1_test_score</th>\n",
       "      <th>...</th>\n",
       "      <th>split2_test_score</th>\n",
       "      <th>split2_train_score</th>\n",
       "      <th>split3_test_score</th>\n",
       "      <th>split3_train_score</th>\n",
       "      <th>split4_test_score</th>\n",
       "      <th>split4_train_score</th>\n",
       "      <th>std_fit_time</th>\n",
       "      <th>std_score_time</th>\n",
       "      <th>std_test_score</th>\n",
       "      <th>std_train_score</th>\n",
       "    </tr>\n",
       "  </thead>\n",
       "  <tbody>\n",
       "    <tr>\n",
       "      <th>0</th>\n",
       "      <td>0.000742</td>\n",
       "      <td>0.002124</td>\n",
       "      <td>0.896714</td>\n",
       "      <td>1.000000</td>\n",
       "      <td>1</td>\n",
       "      <td>{'n_neighbors': 1}</td>\n",
       "      <td>14</td>\n",
       "      <td>0.965116</td>\n",
       "      <td>1.000000</td>\n",
       "      <td>0.872093</td>\n",
       "      <td>...</td>\n",
       "      <td>0.883721</td>\n",
       "      <td>1.000000</td>\n",
       "      <td>0.869048</td>\n",
       "      <td>1.000000</td>\n",
       "      <td>0.892857</td>\n",
       "      <td>1.000000</td>\n",
       "      <td>0.000137</td>\n",
       "      <td>0.000945</td>\n",
       "      <td>0.035424</td>\n",
       "      <td>0.000000</td>\n",
       "    </tr>\n",
       "    <tr>\n",
       "      <th>1</th>\n",
       "      <td>0.000529</td>\n",
       "      <td>0.000949</td>\n",
       "      <td>0.906103</td>\n",
       "      <td>0.967716</td>\n",
       "      <td>2</td>\n",
       "      <td>{'n_neighbors': 2}</td>\n",
       "      <td>13</td>\n",
       "      <td>0.953488</td>\n",
       "      <td>0.958824</td>\n",
       "      <td>0.906977</td>\n",
       "      <td>...</td>\n",
       "      <td>0.906977</td>\n",
       "      <td>0.973529</td>\n",
       "      <td>0.857143</td>\n",
       "      <td>0.970760</td>\n",
       "      <td>0.904762</td>\n",
       "      <td>0.970760</td>\n",
       "      <td>0.000154</td>\n",
       "      <td>0.000035</td>\n",
       "      <td>0.030440</td>\n",
       "      <td>0.005300</td>\n",
       "    </tr>\n",
       "    <tr>\n",
       "      <th>2</th>\n",
       "      <td>0.000451</td>\n",
       "      <td>0.000978</td>\n",
       "      <td>0.917840</td>\n",
       "      <td>0.947761</td>\n",
       "      <td>3</td>\n",
       "      <td>{'n_neighbors': 3}</td>\n",
       "      <td>9</td>\n",
       "      <td>0.953488</td>\n",
       "      <td>0.938235</td>\n",
       "      <td>0.883721</td>\n",
       "      <td>...</td>\n",
       "      <td>0.965116</td>\n",
       "      <td>0.941176</td>\n",
       "      <td>0.869048</td>\n",
       "      <td>0.956140</td>\n",
       "      <td>0.916667</td>\n",
       "      <td>0.947368</td>\n",
       "      <td>0.000006</td>\n",
       "      <td>0.000016</td>\n",
       "      <td>0.037583</td>\n",
       "      <td>0.007354</td>\n",
       "    </tr>\n",
       "    <tr>\n",
       "      <th>3</th>\n",
       "      <td>0.000451</td>\n",
       "      <td>0.000983</td>\n",
       "      <td>0.908451</td>\n",
       "      <td>0.940729</td>\n",
       "      <td>4</td>\n",
       "      <td>{'n_neighbors': 4}</td>\n",
       "      <td>12</td>\n",
       "      <td>0.953488</td>\n",
       "      <td>0.929412</td>\n",
       "      <td>0.883721</td>\n",
       "      <td>...</td>\n",
       "      <td>0.941860</td>\n",
       "      <td>0.938235</td>\n",
       "      <td>0.845238</td>\n",
       "      <td>0.941520</td>\n",
       "      <td>0.916667</td>\n",
       "      <td>0.938596</td>\n",
       "      <td>0.000005</td>\n",
       "      <td>0.000009</td>\n",
       "      <td>0.039491</td>\n",
       "      <td>0.008592</td>\n",
       "    </tr>\n",
       "    <tr>\n",
       "      <th>4</th>\n",
       "      <td>0.000476</td>\n",
       "      <td>0.001012</td>\n",
       "      <td>0.920188</td>\n",
       "      <td>0.931923</td>\n",
       "      <td>5</td>\n",
       "      <td>{'n_neighbors': 5}</td>\n",
       "      <td>6</td>\n",
       "      <td>0.953488</td>\n",
       "      <td>0.917647</td>\n",
       "      <td>0.872093</td>\n",
       "      <td>...</td>\n",
       "      <td>0.976744</td>\n",
       "      <td>0.926471</td>\n",
       "      <td>0.869048</td>\n",
       "      <td>0.932749</td>\n",
       "      <td>0.928571</td>\n",
       "      <td>0.932749</td>\n",
       "      <td>0.000015</td>\n",
       "      <td>0.000019</td>\n",
       "      <td>0.043199</td>\n",
       "      <td>0.010599</td>\n",
       "    </tr>\n",
       "    <tr>\n",
       "      <th>5</th>\n",
       "      <td>0.000466</td>\n",
       "      <td>0.001032</td>\n",
       "      <td>0.920188</td>\n",
       "      <td>0.933670</td>\n",
       "      <td>6</td>\n",
       "      <td>{'n_neighbors': 6}</td>\n",
       "      <td>6</td>\n",
       "      <td>0.965116</td>\n",
       "      <td>0.917647</td>\n",
       "      <td>0.883721</td>\n",
       "      <td>...</td>\n",
       "      <td>0.953488</td>\n",
       "      <td>0.926471</td>\n",
       "      <td>0.869048</td>\n",
       "      <td>0.944444</td>\n",
       "      <td>0.928571</td>\n",
       "      <td>0.935673</td>\n",
       "      <td>0.000009</td>\n",
       "      <td>0.000047</td>\n",
       "      <td>0.037807</td>\n",
       "      <td>0.010371</td>\n",
       "    </tr>\n",
       "    <tr>\n",
       "      <th>6</th>\n",
       "      <td>0.000468</td>\n",
       "      <td>0.001030</td>\n",
       "      <td>0.922535</td>\n",
       "      <td>0.933674</td>\n",
       "      <td>7</td>\n",
       "      <td>{'n_neighbors': 7}</td>\n",
       "      <td>3</td>\n",
       "      <td>0.988372</td>\n",
       "      <td>0.920588</td>\n",
       "      <td>0.872093</td>\n",
       "      <td>...</td>\n",
       "      <td>0.953488</td>\n",
       "      <td>0.926471</td>\n",
       "      <td>0.869048</td>\n",
       "      <td>0.941520</td>\n",
       "      <td>0.928571</td>\n",
       "      <td>0.935673</td>\n",
       "      <td>0.000013</td>\n",
       "      <td>0.000012</td>\n",
       "      <td>0.046405</td>\n",
       "      <td>0.008919</td>\n",
       "    </tr>\n",
       "    <tr>\n",
       "      <th>7</th>\n",
       "      <td>0.000456</td>\n",
       "      <td>0.001032</td>\n",
       "      <td>0.929577</td>\n",
       "      <td>0.931913</td>\n",
       "      <td>8</td>\n",
       "      <td>{'n_neighbors': 8}</td>\n",
       "      <td>1</td>\n",
       "      <td>0.988372</td>\n",
       "      <td>0.917647</td>\n",
       "      <td>0.872093</td>\n",
       "      <td>...</td>\n",
       "      <td>0.976744</td>\n",
       "      <td>0.926471</td>\n",
       "      <td>0.880952</td>\n",
       "      <td>0.938596</td>\n",
       "      <td>0.928571</td>\n",
       "      <td>0.935673</td>\n",
       "      <td>0.000003</td>\n",
       "      <td>0.000005</td>\n",
       "      <td>0.047754</td>\n",
       "      <td>0.008692</td>\n",
       "    </tr>\n",
       "    <tr>\n",
       "      <th>8</th>\n",
       "      <td>0.000454</td>\n",
       "      <td>0.001052</td>\n",
       "      <td>0.922535</td>\n",
       "      <td>0.930158</td>\n",
       "      <td>9</td>\n",
       "      <td>{'n_neighbors': 9}</td>\n",
       "      <td>3</td>\n",
       "      <td>0.988372</td>\n",
       "      <td>0.920588</td>\n",
       "      <td>0.872093</td>\n",
       "      <td>...</td>\n",
       "      <td>0.965116</td>\n",
       "      <td>0.926471</td>\n",
       "      <td>0.880952</td>\n",
       "      <td>0.935673</td>\n",
       "      <td>0.904762</td>\n",
       "      <td>0.929825</td>\n",
       "      <td>0.000003</td>\n",
       "      <td>0.000011</td>\n",
       "      <td>0.046454</td>\n",
       "      <td>0.006339</td>\n",
       "    </tr>\n",
       "    <tr>\n",
       "      <th>9</th>\n",
       "      <td>0.000456</td>\n",
       "      <td>0.001076</td>\n",
       "      <td>0.927230</td>\n",
       "      <td>0.929567</td>\n",
       "      <td>10</td>\n",
       "      <td>{'n_neighbors': 10}</td>\n",
       "      <td>2</td>\n",
       "      <td>0.988372</td>\n",
       "      <td>0.920588</td>\n",
       "      <td>0.883721</td>\n",
       "      <td>...</td>\n",
       "      <td>0.965116</td>\n",
       "      <td>0.923529</td>\n",
       "      <td>0.880952</td>\n",
       "      <td>0.935673</td>\n",
       "      <td>0.916667</td>\n",
       "      <td>0.932749</td>\n",
       "      <td>0.000007</td>\n",
       "      <td>0.000015</td>\n",
       "      <td>0.043254</td>\n",
       "      <td>0.006281</td>\n",
       "    </tr>\n",
       "    <tr>\n",
       "      <th>10</th>\n",
       "      <td>0.000456</td>\n",
       "      <td>0.001067</td>\n",
       "      <td>0.917840</td>\n",
       "      <td>0.927805</td>\n",
       "      <td>11</td>\n",
       "      <td>{'n_neighbors': 11}</td>\n",
       "      <td>9</td>\n",
       "      <td>0.965116</td>\n",
       "      <td>0.914706</td>\n",
       "      <td>0.883721</td>\n",
       "      <td>...</td>\n",
       "      <td>0.965116</td>\n",
       "      <td>0.920588</td>\n",
       "      <td>0.880952</td>\n",
       "      <td>0.932749</td>\n",
       "      <td>0.892857</td>\n",
       "      <td>0.932749</td>\n",
       "      <td>0.000005</td>\n",
       "      <td>0.000007</td>\n",
       "      <td>0.039100</td>\n",
       "      <td>0.008733</td>\n",
       "    </tr>\n",
       "    <tr>\n",
       "      <th>11</th>\n",
       "      <td>0.000453</td>\n",
       "      <td>0.001089</td>\n",
       "      <td>0.920188</td>\n",
       "      <td>0.931920</td>\n",
       "      <td>12</td>\n",
       "      <td>{'n_neighbors': 12}</td>\n",
       "      <td>6</td>\n",
       "      <td>0.976744</td>\n",
       "      <td>0.923529</td>\n",
       "      <td>0.883721</td>\n",
       "      <td>...</td>\n",
       "      <td>0.976744</td>\n",
       "      <td>0.926471</td>\n",
       "      <td>0.869048</td>\n",
       "      <td>0.932749</td>\n",
       "      <td>0.892857</td>\n",
       "      <td>0.935673</td>\n",
       "      <td>0.000004</td>\n",
       "      <td>0.000009</td>\n",
       "      <td>0.047148</td>\n",
       "      <td>0.006333</td>\n",
       "    </tr>\n",
       "    <tr>\n",
       "      <th>12</th>\n",
       "      <td>0.000463</td>\n",
       "      <td>0.001133</td>\n",
       "      <td>0.917840</td>\n",
       "      <td>0.923106</td>\n",
       "      <td>13</td>\n",
       "      <td>{'n_neighbors': 13}</td>\n",
       "      <td>9</td>\n",
       "      <td>0.965116</td>\n",
       "      <td>0.905882</td>\n",
       "      <td>0.883721</td>\n",
       "      <td>...</td>\n",
       "      <td>0.976744</td>\n",
       "      <td>0.917647</td>\n",
       "      <td>0.869048</td>\n",
       "      <td>0.929825</td>\n",
       "      <td>0.892857</td>\n",
       "      <td>0.929825</td>\n",
       "      <td>0.000014</td>\n",
       "      <td>0.000024</td>\n",
       "      <td>0.044488</td>\n",
       "      <td>0.010022</td>\n",
       "    </tr>\n",
       "    <tr>\n",
       "      <th>13</th>\n",
       "      <td>0.000461</td>\n",
       "      <td>0.001151</td>\n",
       "      <td>0.922535</td>\n",
       "      <td>0.924279</td>\n",
       "      <td>14</td>\n",
       "      <td>{'n_neighbors': 14}</td>\n",
       "      <td>3</td>\n",
       "      <td>0.976744</td>\n",
       "      <td>0.911765</td>\n",
       "      <td>0.883721</td>\n",
       "      <td>...</td>\n",
       "      <td>0.976744</td>\n",
       "      <td>0.917647</td>\n",
       "      <td>0.880952</td>\n",
       "      <td>0.929825</td>\n",
       "      <td>0.892857</td>\n",
       "      <td>0.932749</td>\n",
       "      <td>0.000005</td>\n",
       "      <td>0.000070</td>\n",
       "      <td>0.044780</td>\n",
       "      <td>0.008117</td>\n",
       "    </tr>\n",
       "  </tbody>\n",
       "</table>\n",
       "<p>14 rows × 21 columns</p>\n",
       "</div>"
      ],
      "text/plain": [
       "    mean_fit_time  mean_score_time  mean_test_score  mean_train_score  \\\n",
       "0        0.000742         0.002124         0.896714          1.000000   \n",
       "1        0.000529         0.000949         0.906103          0.967716   \n",
       "2        0.000451         0.000978         0.917840          0.947761   \n",
       "3        0.000451         0.000983         0.908451          0.940729   \n",
       "4        0.000476         0.001012         0.920188          0.931923   \n",
       "5        0.000466         0.001032         0.920188          0.933670   \n",
       "6        0.000468         0.001030         0.922535          0.933674   \n",
       "7        0.000456         0.001032         0.929577          0.931913   \n",
       "8        0.000454         0.001052         0.922535          0.930158   \n",
       "9        0.000456         0.001076         0.927230          0.929567   \n",
       "10       0.000456         0.001067         0.917840          0.927805   \n",
       "11       0.000453         0.001089         0.920188          0.931920   \n",
       "12       0.000463         0.001133         0.917840          0.923106   \n",
       "13       0.000461         0.001151         0.922535          0.924279   \n",
       "\n",
       "   param_n_neighbors               params  rank_test_score  split0_test_score  \\\n",
       "0                  1   {'n_neighbors': 1}               14           0.965116   \n",
       "1                  2   {'n_neighbors': 2}               13           0.953488   \n",
       "2                  3   {'n_neighbors': 3}                9           0.953488   \n",
       "3                  4   {'n_neighbors': 4}               12           0.953488   \n",
       "4                  5   {'n_neighbors': 5}                6           0.953488   \n",
       "5                  6   {'n_neighbors': 6}                6           0.965116   \n",
       "6                  7   {'n_neighbors': 7}                3           0.988372   \n",
       "7                  8   {'n_neighbors': 8}                1           0.988372   \n",
       "8                  9   {'n_neighbors': 9}                3           0.988372   \n",
       "9                 10  {'n_neighbors': 10}                2           0.988372   \n",
       "10                11  {'n_neighbors': 11}                9           0.965116   \n",
       "11                12  {'n_neighbors': 12}                6           0.976744   \n",
       "12                13  {'n_neighbors': 13}                9           0.965116   \n",
       "13                14  {'n_neighbors': 14}                3           0.976744   \n",
       "\n",
       "    split0_train_score  split1_test_score       ...         split2_test_score  \\\n",
       "0             1.000000           0.872093       ...                  0.883721   \n",
       "1             0.958824           0.906977       ...                  0.906977   \n",
       "2             0.938235           0.883721       ...                  0.965116   \n",
       "3             0.929412           0.883721       ...                  0.941860   \n",
       "4             0.917647           0.872093       ...                  0.976744   \n",
       "5             0.917647           0.883721       ...                  0.953488   \n",
       "6             0.920588           0.872093       ...                  0.953488   \n",
       "7             0.917647           0.872093       ...                  0.976744   \n",
       "8             0.920588           0.872093       ...                  0.965116   \n",
       "9             0.920588           0.883721       ...                  0.965116   \n",
       "10            0.914706           0.883721       ...                  0.965116   \n",
       "11            0.923529           0.883721       ...                  0.976744   \n",
       "12            0.905882           0.883721       ...                  0.976744   \n",
       "13            0.911765           0.883721       ...                  0.976744   \n",
       "\n",
       "    split2_train_score  split3_test_score  split3_train_score  \\\n",
       "0             1.000000           0.869048            1.000000   \n",
       "1             0.973529           0.857143            0.970760   \n",
       "2             0.941176           0.869048            0.956140   \n",
       "3             0.938235           0.845238            0.941520   \n",
       "4             0.926471           0.869048            0.932749   \n",
       "5             0.926471           0.869048            0.944444   \n",
       "6             0.926471           0.869048            0.941520   \n",
       "7             0.926471           0.880952            0.938596   \n",
       "8             0.926471           0.880952            0.935673   \n",
       "9             0.923529           0.880952            0.935673   \n",
       "10            0.920588           0.880952            0.932749   \n",
       "11            0.926471           0.869048            0.932749   \n",
       "12            0.917647           0.869048            0.929825   \n",
       "13            0.917647           0.880952            0.929825   \n",
       "\n",
       "    split4_test_score  split4_train_score  std_fit_time  std_score_time  \\\n",
       "0            0.892857            1.000000      0.000137        0.000945   \n",
       "1            0.904762            0.970760      0.000154        0.000035   \n",
       "2            0.916667            0.947368      0.000006        0.000016   \n",
       "3            0.916667            0.938596      0.000005        0.000009   \n",
       "4            0.928571            0.932749      0.000015        0.000019   \n",
       "5            0.928571            0.935673      0.000009        0.000047   \n",
       "6            0.928571            0.935673      0.000013        0.000012   \n",
       "7            0.928571            0.935673      0.000003        0.000005   \n",
       "8            0.904762            0.929825      0.000003        0.000011   \n",
       "9            0.916667            0.932749      0.000007        0.000015   \n",
       "10           0.892857            0.932749      0.000005        0.000007   \n",
       "11           0.892857            0.935673      0.000004        0.000009   \n",
       "12           0.892857            0.929825      0.000014        0.000024   \n",
       "13           0.892857            0.932749      0.000005        0.000070   \n",
       "\n",
       "    std_test_score  std_train_score  \n",
       "0         0.035424         0.000000  \n",
       "1         0.030440         0.005300  \n",
       "2         0.037583         0.007354  \n",
       "3         0.039491         0.008592  \n",
       "4         0.043199         0.010599  \n",
       "5         0.037807         0.010371  \n",
       "6         0.046405         0.008919  \n",
       "7         0.047754         0.008692  \n",
       "8         0.046454         0.006339  \n",
       "9         0.043254         0.006281  \n",
       "10        0.039100         0.008733  \n",
       "11        0.047148         0.006333  \n",
       "12        0.044488         0.010022  \n",
       "13        0.044780         0.008117  \n",
       "\n",
       "[14 rows x 21 columns]"
      ]
     },
     "execution_count": 33,
     "metadata": {},
     "output_type": "execute_result"
    }
   ],
   "source": [
    "pd.DataFrame(grid_search.cv_results_)"
   ]
  },
  {
   "cell_type": "code",
   "execution_count": null,
   "metadata": {},
   "outputs": [],
   "source": []
  }
 ],
 "metadata": {
  "kernelspec": {
   "display_name": "Python 3 (ipykernel)",
   "language": "python",
   "name": "python3"
  },
  "language_info": {
   "codemirror_mode": {
    "name": "ipython",
    "version": 3
   },
   "file_extension": ".py",
   "mimetype": "text/x-python",
   "name": "python",
   "nbconvert_exporter": "python",
   "pygments_lexer": "ipython3",
   "version": "3.8.10"
  }
 },
 "nbformat": 4,
 "nbformat_minor": 2
}
