{
 "cells": [
  {
   "cell_type": "markdown",
   "metadata": {},
   "source": [
    "# A brief introduction to key Python constructs\n",
    "\n",
    "Parts of this notebook is based on this [tutorial](https://developers.google.com/edu/python/)."
   ]
  },
  {
   "cell_type": "markdown",
   "metadata": {},
   "source": [
    "# Strings\n",
    "\n",
    "Python has a built-in string class called 'str':\n",
    "* String literals can be enclosed in single (') and double quotes (\")\n",
    "* Strings are immutable\n",
    "* Characters are be accessed using the [] syntax\n",
    "* Concatenate strings using '+'"
   ]
  },
  {
   "cell_type": "code",
   "execution_count": null,
   "metadata": {},
   "outputs": [],
   "source": [
    "s = 'Datamodeller'\n",
    "\n",
    "# Print the third character of the string; indexing is zero-based \n",
    "print(s[2]) \n",
    "\n",
    "# The length of the string\n",
    "print(len(s))\n",
    "\n",
    "# Concatenate strings\n",
    "print(s + ' og analyseteknikker')\n",
    "\n",
    "# Convert values to strings\n",
    "print('ITEV ' + str(2024))"
   ]
  },
  {
   "cell_type": "markdown",
   "metadata": {},
   "source": [
    "### Some string methods"
   ]
  },
  {
   "cell_type": "code",
   "execution_count": null,
   "metadata": {},
   "outputs": [],
   "source": [
    "s = 'Datamodeller'\n",
    "# Convert to lower case\n",
    "print(s.lower())\n",
    "\n",
    "# Find start index of first occurence of substring; -1 if not found\n",
    "print(s.find('del'))\n",
    "print(s.find('x'))"
   ]
  },
  {
   "cell_type": "markdown",
   "metadata": {},
   "source": [
    "### Slicing"
   ]
  },
  {
   "cell_type": "code",
   "execution_count": null,
   "metadata": {},
   "outputs": [],
   "source": [
    "s = 'Datamodeller'\n",
    "# Get subsequence starting at index 3 and extendeding to (but not including) index 7\n",
    "print(s[3:7])\n",
    "\n",
    "# Get subsequence starting from index 6\n",
    "print(s[6:])\n",
    "\n",
    "# Get subsequence from start to index 6 (not including)\n",
    "print(s[:6])\n",
    "\n",
    "# Use negative numbers to index characters at the end of the string\n",
    "print(s[-1])\n",
    "print(s[-3:])"
   ]
  },
  {
   "cell_type": "markdown",
   "metadata": {},
   "source": [
    "### Formatting print statements"
   ]
  },
  {
   "cell_type": "code",
   "execution_count": null,
   "metadata": {},
   "outputs": [],
   "source": [
    "print(\"ITEV {}: {}\".format(2024,s))\n",
    "print(\"Value {:.2f}\".format(34.32445309874))"
   ]
  },
  {
   "cell_type": "markdown",
   "metadata": {},
   "source": [
    "Or by using f--strings:"
   ]
  },
  {
   "cell_type": "code",
   "execution_count": null,
   "metadata": {},
   "outputs": [],
   "source": [
    "print(f\"ITEV {2024}: {s}\")\n",
    "print(f\"Value {34.32445309874:.2f}\")"
   ]
  },
  {
   "cell_type": "markdown",
   "metadata": {},
   "source": [
    "# Python Lists \n",
    "\n",
    "Python has a built-in list type named \"list\". \n",
    "* List literals are written within square brackets [ ]. \n",
    "* Lists behave like strings; use square brackets [ ] to access data, with the first element at index 0.\n",
    "\n",
    "<img src=\"list1.png\">\n"
   ]
  },
  {
   "cell_type": "code",
   "execution_count": null,
   "metadata": {},
   "outputs": [],
   "source": [
    "colors = ['red', 'blue', 'green']\n",
    "print(colors[0])   \n",
    "print(colors[2])    \n",
    "print(len(colors))  "
   ]
  },
  {
   "cell_type": "markdown",
   "metadata": {},
   "source": [
    "Assignment (say `b = colors`) does not make a copy. Instead two variables would point to the same list:\n",
    "<img src=\"list2.png\">"
   ]
  },
  {
   "cell_type": "code",
   "execution_count": null,
   "metadata": {},
   "outputs": [],
   "source": [
    "b = colors\n",
    "b[1] = 'magenta'\n",
    "print(colors[1:]) # List slicing"
   ]
  },
  {
   "cell_type": "markdown",
   "metadata": {},
   "source": [
    "## Some common list functions"
   ]
  },
  {
   "cell_type": "code",
   "execution_count": null,
   "metadata": {},
   "outputs": [],
   "source": [
    "# Make an empty list\n",
    "e = []\n",
    "\n",
    "# Append an element\n",
    "e.append(2)\n",
    "print(e)"
   ]
  },
  {
   "cell_type": "code",
   "execution_count": null,
   "metadata": {},
   "outputs": [],
   "source": [
    "# Combine two lists\n",
    "c = e + b\n",
    "print(c)"
   ]
  },
  {
   "cell_type": "code",
   "execution_count": null,
   "metadata": {},
   "outputs": [],
   "source": [
    "# Reverse a list\n",
    "c.reverse()\n",
    "print(c)"
   ]
  },
  {
   "cell_type": "markdown",
   "metadata": {},
   "source": [
    "# Tuples\n",
    "\n",
    "Tuples are fixed-sized immutable structures, for instance containing the 3D coordinate of an object (x,y,z)"
   ]
  },
  {
   "cell_type": "code",
   "execution_count": null,
   "metadata": {},
   "outputs": [],
   "source": [
    "tuple = (3, 'ITEV', 4)\n",
    "print(len(tuple))\n",
    "print(tuple[1])\n",
    "#tuple[1] = 2\n",
    "(x,y,z) = tuple\n",
    "print((x,y,z))"
   ]
  },
  {
   "cell_type": "markdown",
   "metadata": {},
   "source": [
    "# Dictionaries\n",
    "Python's  key/value hash table structure is called a \"dict\". The contents of a dict can be written as a series of key:value pairs within braces { }, e.g. dict = {key1:value1, key2:value2, ... }. The \"empty dict\" is just an empty pair of curly braces {}.\n",
    "<img src=\"dict.png\">\n"
   ]
  },
  {
   "cell_type": "code",
   "execution_count": 1,
   "metadata": {},
   "outputs": [
    {
     "name": "stdout",
     "output_type": "stream",
     "text": [
      "{'a': 'alpha', 'g': 'gamma', 'o': 'omega'}\n",
      "alpha\n",
      "alpha\n"
     ]
    }
   ],
   "source": [
    "dict = {}\n",
    "dict['a'] = 'alpha'\n",
    "dict['g'] = 'gamma'\n",
    "dict['o'] = 'omega'\n",
    "\n",
    "# Print dictionary\n",
    "print(dict)\n",
    "\n",
    "# Print value associated with key 'a'\n",
    "print(dict['a'])\n",
    "\n",
    "if 'a' in dict: print(dict['a'])\n"
   ]
  },
  {
   "cell_type": "code",
   "execution_count": 2,
   "metadata": {},
   "outputs": [
    {
     "name": "stdout",
     "output_type": "stream",
     "text": [
      "dict_keys(['a', 'g', 'o'])\n"
     ]
    }
   ],
   "source": [
    "# Get key list (the list is in a random order)\n",
    "print(dict.keys())"
   ]
  },
  {
   "cell_type": "code",
   "execution_count": null,
   "metadata": {},
   "outputs": [],
   "source": [
    "# Get value list\n",
    "print(dict.values())"
   ]
  },
  {
   "cell_type": "code",
   "execution_count": null,
   "metadata": {},
   "outputs": [],
   "source": [
    "# Get dictionary items\n",
    "print(dict.items())"
   ]
  },
  {
   "cell_type": "markdown",
   "metadata": {},
   "source": [
    "# If-statements"
   ]
  },
  {
   "cell_type": "code",
   "execution_count": null,
   "metadata": {},
   "outputs": [],
   "source": [
    "import datetime\n",
    "now = datetime.datetime.now()\n",
    "hour = now.hour\n",
    "\n",
    "coffee_ready = True\n",
    "if hour > 10 and coffee_ready:\n",
    "    print(\"Time for a break\")\n",
    "elif hour > 10 and not coffee_ready:\n",
    "    print(\"Should we have a break?\")\n",
    "else:\n",
    "    print(\"Let's continue\")\n",
    "    print(\"En anden ting\")"
   ]
  },
  {
   "cell_type": "markdown",
   "metadata": {},
   "source": [
    "# Loops"
   ]
  },
  {
   "cell_type": "markdown",
   "metadata": {},
   "source": [
    "## FOR and IN\n",
    "\n",
    "The FOR/IN construct makes it easy to iterate oiver the cointents of a list "
   ]
  },
  {
   "cell_type": "code",
   "execution_count": null,
   "metadata": {},
   "outputs": [],
   "source": [
    "numbers = [0,1,2,38,3,-5,3]\n",
    "\n",
    "sum = 0\n",
    "for num in numbers:\n",
    "    sum += num**2\n",
    "print(sum)"
   ]
  },
  {
   "cell_type": "markdown",
   "metadata": {},
   "source": [
    "The `range(n)` function yields nunbers 0, 1, ..., n-1. The function `range(a,b)` yields the numbers a, a+1, ..., b-1. Combining the range function with the FOR/IN construct allows you to build the traditional for-loop: "
   ]
  },
  {
   "cell_type": "code",
   "execution_count": null,
   "metadata": {},
   "outputs": [],
   "source": [
    "for i in range(10):\n",
    "    print(i)"
   ]
  },
  {
   "cell_type": "markdown",
   "metadata": {},
   "source": [
    "## While loop\n",
    "Python also has a `while` statement that works as a standard while-loop supprting `break` and `continue`:"
   ]
  },
  {
   "cell_type": "code",
   "execution_count": 3,
   "metadata": {},
   "outputs": [
    {
     "ename": "NameError",
     "evalue": "name 'numbers' is not defined",
     "output_type": "error",
     "traceback": [
      "\u001b[0;31m---------------------------------------------------------------------------\u001b[0m",
      "\u001b[0;31mNameError\u001b[0m                                 Traceback (most recent call last)",
      "Cell \u001b[0;32mIn[3], line 2\u001b[0m\n\u001b[1;32m      1\u001b[0m i \u001b[38;5;241m=\u001b[39m \u001b[38;5;241m0\u001b[39m\n\u001b[0;32m----> 2\u001b[0m \u001b[38;5;28;01mwhile\u001b[39;00m i \u001b[38;5;241m<\u001b[39m \u001b[38;5;28mlen\u001b[39m(numbers):\n\u001b[1;32m      3\u001b[0m     \u001b[38;5;28mprint\u001b[39m(numbers[i])\n\u001b[1;32m      4\u001b[0m     i \u001b[38;5;241m+\u001b[39m\u001b[38;5;241m=\u001b[39m \u001b[38;5;241m2\u001b[39m\n",
      "\u001b[0;31mNameError\u001b[0m: name 'numbers' is not defined"
     ]
    }
   ],
   "source": [
    "i = 0\n",
    "while i < len(numbers):\n",
    "    print(numbers[i])\n",
    "    i += 2"
   ]
  },
  {
   "cell_type": "code",
   "execution_count": null,
   "metadata": {},
   "outputs": [],
   "source": []
  }
 ],
 "metadata": {
  "kernelspec": {
   "display_name": "Python 3 (ipykernel)",
   "language": "python",
   "name": "python3"
  },
  "language_info": {
   "codemirror_mode": {
    "name": "ipython",
    "version": 3
   },
   "file_extension": ".py",
   "mimetype": "text/x-python",
   "name": "python",
   "nbconvert_exporter": "python",
   "pygments_lexer": "ipython3",
   "version": "3.12.7"
  }
 },
 "nbformat": 4,
 "nbformat_minor": 4
}
